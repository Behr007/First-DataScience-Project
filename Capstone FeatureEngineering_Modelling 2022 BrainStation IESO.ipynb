{
 "cells": [
  {
   "cell_type": "markdown",
   "id": "c8483e57",
   "metadata": {},
   "source": [
    "# <center> Feature Engineering and Modelling </center>\n",
    "\n",
    "<center> Notebook Two: <br>\n",
    "Features, Targets, Modelling, Training, Testing, and Parameter Optimization </center>\n",
    "\n",
    "Prepared by: Behrouz ShakeriFard\n",
    "\n",
    "contact: bshakeri@ryerson.ca\n",
    "\n",
    "July 2022"
   ]
  },
  {
   "cell_type": "markdown",
   "id": "e7671830",
   "metadata": {},
   "source": [
    "In the previous notebook we saw the basic fluctuations of our main variables of interest (market demand, system's output, output/capacity ratio, and price) in a 24-hour cycle. We will now begin to investigate possible avenues to learn from the data, and along the way we will engineer new features and define a target, which we would like to predict."
   ]
  },
  {
   "cell_type": "code",
   "execution_count": 1,
   "id": "1319b3b2",
   "metadata": {},
   "outputs": [],
   "source": [
    "# importing a few useful packages\n",
    "import pandas as pd\n",
    "import numpy as np\n",
    "\n",
    "import seaborn as sns\n",
    "import matplotlib.pyplot as plt\n",
    "\n",
    "from matplotlib import style\n",
    "from pylab import *\n",
    "\n",
    "from scipy.stats import linregress"
   ]
  },
  {
   "cell_type": "code",
   "execution_count": 2,
   "id": "33b49379",
   "metadata": {},
   "outputs": [],
   "source": [
    "# importing data\n",
    "old_df = pd.read_csv('data_step_one.csv')"
   ]
  },
  {
   "cell_type": "code",
   "execution_count": 3,
   "id": "0547331a",
   "metadata": {},
   "outputs": [
    {
     "data": {
      "text/html": [
       "<div>\n",
       "<style scoped>\n",
       "    .dataframe tbody tr th:only-of-type {\n",
       "        vertical-align: middle;\n",
       "    }\n",
       "\n",
       "    .dataframe tbody tr th {\n",
       "        vertical-align: top;\n",
       "    }\n",
       "\n",
       "    .dataframe thead th {\n",
       "        text-align: right;\n",
       "    }\n",
       "</style>\n",
       "<table border=\"1\" class=\"dataframe\">\n",
       "  <thead>\n",
       "    <tr style=\"text-align: right;\">\n",
       "      <th></th>\n",
       "      <th>Unnamed: 0</th>\n",
       "      <th>Date</th>\n",
       "      <th>Hour</th>\n",
       "      <th>Market Demand</th>\n",
       "      <th>Output</th>\n",
       "      <th>Capacity</th>\n",
       "      <th>Output/Cap ratio</th>\n",
       "      <th>Price</th>\n",
       "    </tr>\n",
       "  </thead>\n",
       "  <tbody>\n",
       "    <tr>\n",
       "      <th>0</th>\n",
       "      <td>3</td>\n",
       "      <td>2018-01-01</td>\n",
       "      <td>1</td>\n",
       "      <td>18662.0</td>\n",
       "      <td>17974.0</td>\n",
       "      <td>28583.0</td>\n",
       "      <td>0.628835</td>\n",
       "      <td>51.29</td>\n",
       "    </tr>\n",
       "    <tr>\n",
       "      <th>1</th>\n",
       "      <td>4</td>\n",
       "      <td>2018-01-01</td>\n",
       "      <td>2</td>\n",
       "      <td>18060.0</td>\n",
       "      <td>17797.0</td>\n",
       "      <td>29352.0</td>\n",
       "      <td>0.606330</td>\n",
       "      <td>43.59</td>\n",
       "    </tr>\n",
       "    <tr>\n",
       "      <th>2</th>\n",
       "      <td>5</td>\n",
       "      <td>2018-01-01</td>\n",
       "      <td>3</td>\n",
       "      <td>18429.0</td>\n",
       "      <td>18044.0</td>\n",
       "      <td>29590.0</td>\n",
       "      <td>0.609801</td>\n",
       "      <td>93.60</td>\n",
       "    </tr>\n",
       "    <tr>\n",
       "      <th>3</th>\n",
       "      <td>6</td>\n",
       "      <td>2018-01-01</td>\n",
       "      <td>4</td>\n",
       "      <td>19137.0</td>\n",
       "      <td>19004.0</td>\n",
       "      <td>29902.0</td>\n",
       "      <td>0.635543</td>\n",
       "      <td>54.78</td>\n",
       "    </tr>\n",
       "    <tr>\n",
       "      <th>4</th>\n",
       "      <td>7</td>\n",
       "      <td>2018-01-01</td>\n",
       "      <td>5</td>\n",
       "      <td>19470.0</td>\n",
       "      <td>19280.0</td>\n",
       "      <td>30079.0</td>\n",
       "      <td>0.640979</td>\n",
       "      <td>14.35</td>\n",
       "    </tr>\n",
       "  </tbody>\n",
       "</table>\n",
       "</div>"
      ],
      "text/plain": [
       "   Unnamed: 0        Date  Hour  Market Demand   Output  Capacity  \\\n",
       "0           3  2018-01-01     1        18662.0  17974.0   28583.0   \n",
       "1           4  2018-01-01     2        18060.0  17797.0   29352.0   \n",
       "2           5  2018-01-01     3        18429.0  18044.0   29590.0   \n",
       "3           6  2018-01-01     4        19137.0  19004.0   29902.0   \n",
       "4           7  2018-01-01     5        19470.0  19280.0   30079.0   \n",
       "\n",
       "   Output/Cap ratio  Price  \n",
       "0          0.628835  51.29  \n",
       "1          0.606330  43.59  \n",
       "2          0.609801  93.60  \n",
       "3          0.635543  54.78  \n",
       "4          0.640979  14.35  "
      ]
     },
     "execution_count": 3,
     "metadata": {},
     "output_type": "execute_result"
    }
   ],
   "source": [
    "# sanity check\n",
    "old_df.head()"
   ]
  },
  {
   "cell_type": "code",
   "execution_count": 4,
   "id": "b5db01d5",
   "metadata": {},
   "outputs": [],
   "source": [
    "old_df.drop(['Unnamed: 0'],axis=1,inplace=True)"
   ]
  },
  {
   "cell_type": "code",
   "execution_count": 5,
   "id": "e306f02c",
   "metadata": {},
   "outputs": [
    {
     "data": {
      "text/html": [
       "<div>\n",
       "<style scoped>\n",
       "    .dataframe tbody tr th:only-of-type {\n",
       "        vertical-align: middle;\n",
       "    }\n",
       "\n",
       "    .dataframe tbody tr th {\n",
       "        vertical-align: top;\n",
       "    }\n",
       "\n",
       "    .dataframe thead th {\n",
       "        text-align: right;\n",
       "    }\n",
       "</style>\n",
       "<table border=\"1\" class=\"dataframe\">\n",
       "  <thead>\n",
       "    <tr style=\"text-align: right;\">\n",
       "      <th></th>\n",
       "      <th>Date</th>\n",
       "      <th>Hour</th>\n",
       "      <th>Market Demand</th>\n",
       "      <th>Output</th>\n",
       "      <th>Capacity</th>\n",
       "      <th>Output/Cap ratio</th>\n",
       "      <th>Price</th>\n",
       "    </tr>\n",
       "  </thead>\n",
       "  <tbody>\n",
       "    <tr>\n",
       "      <th>0</th>\n",
       "      <td>2018-01-01</td>\n",
       "      <td>1</td>\n",
       "      <td>18662.0</td>\n",
       "      <td>17974.0</td>\n",
       "      <td>28583.0</td>\n",
       "      <td>0.628835</td>\n",
       "      <td>51.29</td>\n",
       "    </tr>\n",
       "    <tr>\n",
       "      <th>1</th>\n",
       "      <td>2018-01-01</td>\n",
       "      <td>2</td>\n",
       "      <td>18060.0</td>\n",
       "      <td>17797.0</td>\n",
       "      <td>29352.0</td>\n",
       "      <td>0.606330</td>\n",
       "      <td>43.59</td>\n",
       "    </tr>\n",
       "    <tr>\n",
       "      <th>2</th>\n",
       "      <td>2018-01-01</td>\n",
       "      <td>3</td>\n",
       "      <td>18429.0</td>\n",
       "      <td>18044.0</td>\n",
       "      <td>29590.0</td>\n",
       "      <td>0.609801</td>\n",
       "      <td>93.60</td>\n",
       "    </tr>\n",
       "    <tr>\n",
       "      <th>3</th>\n",
       "      <td>2018-01-01</td>\n",
       "      <td>4</td>\n",
       "      <td>19137.0</td>\n",
       "      <td>19004.0</td>\n",
       "      <td>29902.0</td>\n",
       "      <td>0.635543</td>\n",
       "      <td>54.78</td>\n",
       "    </tr>\n",
       "    <tr>\n",
       "      <th>4</th>\n",
       "      <td>2018-01-01</td>\n",
       "      <td>5</td>\n",
       "      <td>19470.0</td>\n",
       "      <td>19280.0</td>\n",
       "      <td>30079.0</td>\n",
       "      <td>0.640979</td>\n",
       "      <td>14.35</td>\n",
       "    </tr>\n",
       "  </tbody>\n",
       "</table>\n",
       "</div>"
      ],
      "text/plain": [
       "         Date  Hour  Market Demand   Output  Capacity  Output/Cap ratio  Price\n",
       "0  2018-01-01     1        18662.0  17974.0   28583.0          0.628835  51.29\n",
       "1  2018-01-01     2        18060.0  17797.0   29352.0          0.606330  43.59\n",
       "2  2018-01-01     3        18429.0  18044.0   29590.0          0.609801  93.60\n",
       "3  2018-01-01     4        19137.0  19004.0   29902.0          0.635543  54.78\n",
       "4  2018-01-01     5        19470.0  19280.0   30079.0          0.640979  14.35"
      ]
     },
     "execution_count": 5,
     "metadata": {},
     "output_type": "execute_result"
    }
   ],
   "source": [
    "# sanity check\n",
    "old_df.head()"
   ]
  },
  {
   "cell_type": "code",
   "execution_count": 6,
   "id": "36f27748",
   "metadata": {},
   "outputs": [
    {
     "data": {
      "text/plain": [
       "(8760, 7)"
      ]
     },
     "execution_count": 6,
     "metadata": {},
     "output_type": "execute_result"
    }
   ],
   "source": [
    "# sanity check\n",
    "old_df.shape"
   ]
  },
  {
   "cell_type": "markdown",
   "id": "4e4466bd",
   "metadata": {},
   "source": [
    "##  Our Pupose at a Glance\n",
    "\n",
    "Data science is a field that utilizes vast pools of data, in order to extract insight, produce avenues for hypothesis testing, and assist decision making. All of the above may be useful in private enterprise, as well as governmental agencies, non-for-profits, non-governmental organizations, households, and even entreprenuers.\n",
    "\n",
    "The data which we are looking at, presents a business opportunity. Therefore, I would rather present the question in form of entreprenuership opportunity rather than a business problem. Although the later applies as well.\n",
    "\n",
    "## Defining the Challenge\n",
    "\n",
    "This analysis seeks to identify the best machine learning technique for predicting binary outcome, which we will construct using the IESO data. This binary outcome indicates when a building (residential or commercial) equipped with adequate electricity storage would disengage from the electricity grid, in order to stop buying electricity from the grid.\n",
    "\n",
    "This is useful because large fluctuations in price - in particular during peak hours - can become heavy financial burdens for large consumers (such as apartment blocks or commercial plants for food processing, manufacturing, assembly, or other activities).\n",
    "\n",
    "For this purpose, we need to look beyond the few features that we currently have.\n",
    "\n",
    "## Feature Engineering\n",
    "\n",
    "\n",
    "Understanding the market is key. The features that we currently poses are not tremendously useful. Therefore, we will gradually add more and more features.\n"
   ]
  },
  {
   "cell_type": "markdown",
   "id": "a708a84c",
   "metadata": {},
   "source": []
  },
  {
   "cell_type": "markdown",
   "id": "32b08611",
   "metadata": {},
   "source": []
  },
  {
   "cell_type": "code",
   "execution_count": 7,
   "id": "742f52f0",
   "metadata": {},
   "outputs": [],
   "source": [
    "data_x = pd.DataFrame()"
   ]
  },
  {
   "cell_type": "code",
   "execution_count": 10,
   "id": "82edeea3",
   "metadata": {},
   "outputs": [
    {
     "data": {
      "text/plain": [
       "Date                 object\n",
       "Hour                  int64\n",
       "Market Demand       float64\n",
       "Output              float64\n",
       "Output/Cap ratio    float64\n",
       "dtype: object"
      ]
     },
     "execution_count": 10,
     "metadata": {},
     "output_type": "execute_result"
    }
   ],
   "source": [
    "data_x = old_df[['Date','Hour','Market Demand','Output','Output/Cap ratio']]\n",
    "\n",
    "data_x.dtypes"
   ]
  },
  {
   "cell_type": "markdown",
   "id": "16575ffa",
   "metadata": {},
   "source": [
    "### First added feature: Market Surplus\n",
    "\n",
    "Electricity market is rarely in equilibrium; and this disequilibrium carries valuable information. In order to extract this  information we will deduct demand from output, and we will cal this column *Market Surplus* because deducting demand from output would produce a positive figure, reflecting the surplus electricity (or energy) that exists in the system. On the other hand, if the system experience a shortage, this variable would turn negative."
   ]
  },
  {
   "cell_type": "code",
   "execution_count": 12,
   "id": "ae2e732f",
   "metadata": {},
   "outputs": [
    {
     "name": "stderr",
     "output_type": "stream",
     "text": [
      "C:\\Users\\Behro\\AppData\\Local\\Temp\\ipykernel_25032\\3187022151.py:1: SettingWithCopyWarning: \n",
      "A value is trying to be set on a copy of a slice from a DataFrame.\n",
      "Try using .loc[row_indexer,col_indexer] = value instead\n",
      "\n",
      "See the caveats in the documentation: https://pandas.pydata.org/pandas-docs/stable/user_guide/indexing.html#returning-a-view-versus-a-copy\n",
      "  data_x['MarketSurplus'] = data_x['Output'] - data_x['Market Demand']\n"
     ]
    }
   ],
   "source": [
    "data_x['MarketSurplus'] = data_x['Output'] - data_x['Market Demand']"
   ]
  },
  {
   "cell_type": "code",
   "execution_count": 13,
   "id": "699c7524",
   "metadata": {},
   "outputs": [
    {
     "data": {
      "text/html": [
       "<div>\n",
       "<style scoped>\n",
       "    .dataframe tbody tr th:only-of-type {\n",
       "        vertical-align: middle;\n",
       "    }\n",
       "\n",
       "    .dataframe tbody tr th {\n",
       "        vertical-align: top;\n",
       "    }\n",
       "\n",
       "    .dataframe thead th {\n",
       "        text-align: right;\n",
       "    }\n",
       "</style>\n",
       "<table border=\"1\" class=\"dataframe\">\n",
       "  <thead>\n",
       "    <tr style=\"text-align: right;\">\n",
       "      <th></th>\n",
       "      <th>Date</th>\n",
       "      <th>Hour</th>\n",
       "      <th>Market Demand</th>\n",
       "      <th>Output</th>\n",
       "      <th>Output/Cap ratio</th>\n",
       "      <th>MarketSurplus</th>\n",
       "    </tr>\n",
       "  </thead>\n",
       "  <tbody>\n",
       "    <tr>\n",
       "      <th>1553</th>\n",
       "      <td>2018-03-06</td>\n",
       "      <td>18</td>\n",
       "      <td>19790.0</td>\n",
       "      <td>18207.0</td>\n",
       "      <td>0.666069</td>\n",
       "      <td>-1583.0</td>\n",
       "    </tr>\n",
       "    <tr>\n",
       "      <th>1768</th>\n",
       "      <td>2018-03-15</td>\n",
       "      <td>17</td>\n",
       "      <td>19019.0</td>\n",
       "      <td>17565.0</td>\n",
       "      <td>0.618072</td>\n",
       "      <td>-1454.0</td>\n",
       "    </tr>\n",
       "    <tr>\n",
       "      <th>8067</th>\n",
       "      <td>2018-12-03</td>\n",
       "      <td>4</td>\n",
       "      <td>17559.0</td>\n",
       "      <td>17174.0</td>\n",
       "      <td>0.587025</td>\n",
       "      <td>-385.0</td>\n",
       "    </tr>\n",
       "    <tr>\n",
       "      <th>6625</th>\n",
       "      <td>2018-10-04</td>\n",
       "      <td>2</td>\n",
       "      <td>14401.0</td>\n",
       "      <td>14214.0</td>\n",
       "      <td>0.497707</td>\n",
       "      <td>-187.0</td>\n",
       "    </tr>\n",
       "    <tr>\n",
       "      <th>8606</th>\n",
       "      <td>2018-12-25</td>\n",
       "      <td>15</td>\n",
       "      <td>17946.0</td>\n",
       "      <td>16636.0</td>\n",
       "      <td>0.589866</td>\n",
       "      <td>-1310.0</td>\n",
       "    </tr>\n",
       "    <tr>\n",
       "      <th>4201</th>\n",
       "      <td>2018-06-25</td>\n",
       "      <td>2</td>\n",
       "      <td>14604.0</td>\n",
       "      <td>14213.0</td>\n",
       "      <td>0.498562</td>\n",
       "      <td>-391.0</td>\n",
       "    </tr>\n",
       "    <tr>\n",
       "      <th>2779</th>\n",
       "      <td>2018-04-26</td>\n",
       "      <td>20</td>\n",
       "      <td>15408.0</td>\n",
       "      <td>14603.0</td>\n",
       "      <td>0.563627</td>\n",
       "      <td>-805.0</td>\n",
       "    </tr>\n",
       "  </tbody>\n",
       "</table>\n",
       "</div>"
      ],
      "text/plain": [
       "            Date  Hour  Market Demand   Output  Output/Cap ratio  \\\n",
       "1553  2018-03-06    18        19790.0  18207.0          0.666069   \n",
       "1768  2018-03-15    17        19019.0  17565.0          0.618072   \n",
       "8067  2018-12-03     4        17559.0  17174.0          0.587025   \n",
       "6625  2018-10-04     2        14401.0  14214.0          0.497707   \n",
       "8606  2018-12-25    15        17946.0  16636.0          0.589866   \n",
       "4201  2018-06-25     2        14604.0  14213.0          0.498562   \n",
       "2779  2018-04-26    20        15408.0  14603.0          0.563627   \n",
       "\n",
       "      MarketSurplus  \n",
       "1553        -1583.0  \n",
       "1768        -1454.0  \n",
       "8067         -385.0  \n",
       "6625         -187.0  \n",
       "8606        -1310.0  \n",
       "4201         -391.0  \n",
       "2779         -805.0  "
      ]
     },
     "execution_count": 13,
     "metadata": {},
     "output_type": "execute_result"
    }
   ],
   "source": [
    "# sanity check\n",
    "data_x.sample(7)"
   ]
  },
  {
   "cell_type": "markdown",
   "id": "237bf53d",
   "metadata": {},
   "source": [
    "## Second Added Feature: Year-on-Year Surplus\n",
    "\n",
    "Market prices reflect (to some extent) deviations of the current transactions from the expectations. In other words, surprises in the electricity consumption behavior will lead to surprises in the prices.\n",
    "\n",
    "In order to capture this, we will import previous year's demand data, and deduct our current demand from that of a year before, in order to see whether or not there is significant deviation in consumers' behavior."
   ]
  },
  {
   "cell_type": "code",
   "execution_count": 14,
   "id": "93ccd840",
   "metadata": {},
   "outputs": [],
   "source": [
    "# importing data\n",
    "d_2017 = pd.read_csv('PUB_Demand_2017_v1.csv')"
   ]
  },
  {
   "cell_type": "code",
   "execution_count": 15,
   "id": "f42cb79b",
   "metadata": {},
   "outputs": [
    {
     "data": {
      "text/html": [
       "<div>\n",
       "<style scoped>\n",
       "    .dataframe tbody tr th:only-of-type {\n",
       "        vertical-align: middle;\n",
       "    }\n",
       "\n",
       "    .dataframe tbody tr th {\n",
       "        vertical-align: top;\n",
       "    }\n",
       "\n",
       "    .dataframe thead th {\n",
       "        text-align: right;\n",
       "    }\n",
       "</style>\n",
       "<table border=\"1\" class=\"dataframe\">\n",
       "  <thead>\n",
       "    <tr style=\"text-align: right;\">\n",
       "      <th></th>\n",
       "      <th>\\\\Hourly Demand Report</th>\n",
       "      <th>Unnamed: 1</th>\n",
       "      <th>Unnamed: 2</th>\n",
       "      <th>Unnamed: 3</th>\n",
       "    </tr>\n",
       "  </thead>\n",
       "  <tbody>\n",
       "    <tr>\n",
       "      <th>0</th>\n",
       "      <td>\\\\Created at 2018-05-22 08:00:00</td>\n",
       "      <td>NaN</td>\n",
       "      <td>NaN</td>\n",
       "      <td>NaN</td>\n",
       "    </tr>\n",
       "    <tr>\n",
       "      <th>1</th>\n",
       "      <td>\\\\For 2017</td>\n",
       "      <td>NaN</td>\n",
       "      <td>NaN</td>\n",
       "      <td>NaN</td>\n",
       "    </tr>\n",
       "    <tr>\n",
       "      <th>2</th>\n",
       "      <td>Date</td>\n",
       "      <td>Hour</td>\n",
       "      <td>Market Demand</td>\n",
       "      <td>Ontario Demand</td>\n",
       "    </tr>\n",
       "    <tr>\n",
       "      <th>3</th>\n",
       "      <td>2017-01-01</td>\n",
       "      <td>1</td>\n",
       "      <td>17172</td>\n",
       "      <td>13522</td>\n",
       "    </tr>\n",
       "    <tr>\n",
       "      <th>4</th>\n",
       "      <td>2017-01-01</td>\n",
       "      <td>2</td>\n",
       "      <td>16757</td>\n",
       "      <td>13117</td>\n",
       "    </tr>\n",
       "  </tbody>\n",
       "</table>\n",
       "</div>"
      ],
      "text/plain": [
       "             \\\\Hourly Demand Report Unnamed: 1     Unnamed: 2      Unnamed: 3\n",
       "0  \\\\Created at 2018-05-22 08:00:00        NaN            NaN             NaN\n",
       "1                        \\\\For 2017        NaN            NaN             NaN\n",
       "2                              Date       Hour  Market Demand  Ontario Demand\n",
       "3                        2017-01-01          1          17172           13522\n",
       "4                        2017-01-01          2          16757           13117"
      ]
     },
     "execution_count": 15,
     "metadata": {},
     "output_type": "execute_result"
    }
   ],
   "source": [
    "# sanity check\n",
    "d_2017.head()"
   ]
  },
  {
   "cell_type": "code",
   "execution_count": 17,
   "id": "8f05e4fd",
   "metadata": {},
   "outputs": [],
   "source": [
    "# renaming columns\n",
    "d_2017.columns=['Date', 'Hour','Market Demand','Ontario Demand']"
   ]
  },
  {
   "cell_type": "code",
   "execution_count": 18,
   "id": "3b5e95b2",
   "metadata": {},
   "outputs": [],
   "source": [
    "# dropping rows that contain unuseful information\n",
    "d_2017.drop([0,1,2], inplace = True)"
   ]
  },
  {
   "cell_type": "code",
   "execution_count": 19,
   "id": "5ab0345d",
   "metadata": {},
   "outputs": [
    {
     "data": {
      "text/html": [
       "<div>\n",
       "<style scoped>\n",
       "    .dataframe tbody tr th:only-of-type {\n",
       "        vertical-align: middle;\n",
       "    }\n",
       "\n",
       "    .dataframe tbody tr th {\n",
       "        vertical-align: top;\n",
       "    }\n",
       "\n",
       "    .dataframe thead th {\n",
       "        text-align: right;\n",
       "    }\n",
       "</style>\n",
       "<table border=\"1\" class=\"dataframe\">\n",
       "  <thead>\n",
       "    <tr style=\"text-align: right;\">\n",
       "      <th></th>\n",
       "      <th>Date</th>\n",
       "      <th>Hour</th>\n",
       "      <th>Market Demand</th>\n",
       "      <th>Ontario Demand</th>\n",
       "    </tr>\n",
       "  </thead>\n",
       "  <tbody>\n",
       "    <tr>\n",
       "      <th>3</th>\n",
       "      <td>2017-01-01</td>\n",
       "      <td>1</td>\n",
       "      <td>17172</td>\n",
       "      <td>13522</td>\n",
       "    </tr>\n",
       "    <tr>\n",
       "      <th>4</th>\n",
       "      <td>2017-01-01</td>\n",
       "      <td>2</td>\n",
       "      <td>16757</td>\n",
       "      <td>13117</td>\n",
       "    </tr>\n",
       "    <tr>\n",
       "      <th>5</th>\n",
       "      <td>2017-01-01</td>\n",
       "      <td>3</td>\n",
       "      <td>16370</td>\n",
       "      <td>12816</td>\n",
       "    </tr>\n",
       "    <tr>\n",
       "      <th>6</th>\n",
       "      <td>2017-01-01</td>\n",
       "      <td>4</td>\n",
       "      <td>16075</td>\n",
       "      <td>12605</td>\n",
       "    </tr>\n",
       "    <tr>\n",
       "      <th>7</th>\n",
       "      <td>2017-01-01</td>\n",
       "      <td>5</td>\n",
       "      <td>16050</td>\n",
       "      <td>12563</td>\n",
       "    </tr>\n",
       "  </tbody>\n",
       "</table>\n",
       "</div>"
      ],
      "text/plain": [
       "         Date Hour Market Demand Ontario Demand\n",
       "3  2017-01-01    1         17172          13522\n",
       "4  2017-01-01    2         16757          13117\n",
       "5  2017-01-01    3         16370          12816\n",
       "6  2017-01-01    4         16075          12605\n",
       "7  2017-01-01    5         16050          12563"
      ]
     },
     "execution_count": 19,
     "metadata": {},
     "output_type": "execute_result"
    }
   ],
   "source": [
    "#sanity check\n",
    "d_2017.head()"
   ]
  },
  {
   "cell_type": "code",
   "execution_count": 21,
   "id": "16b22e6f",
   "metadata": {},
   "outputs": [],
   "source": [
    "d_2017['Market Demand'] = d_2017['Market Demand'].apply(pd.to_numeric)\n",
    "\n",
    "# operation\n",
    "data_x['yr-on-yr Surplus'] = d_2017['Market Demand'] - data_x['Market Demand']"
   ]
  },
  {
   "cell_type": "code",
   "execution_count": 22,
   "id": "ad702051",
   "metadata": {
    "scrolled": true
   },
   "outputs": [
    {
     "data": {
      "text/html": [
       "<div>\n",
       "<style scoped>\n",
       "    .dataframe tbody tr th:only-of-type {\n",
       "        vertical-align: middle;\n",
       "    }\n",
       "\n",
       "    .dataframe tbody tr th {\n",
       "        vertical-align: top;\n",
       "    }\n",
       "\n",
       "    .dataframe thead th {\n",
       "        text-align: right;\n",
       "    }\n",
       "</style>\n",
       "<table border=\"1\" class=\"dataframe\">\n",
       "  <thead>\n",
       "    <tr style=\"text-align: right;\">\n",
       "      <th></th>\n",
       "      <th>Date</th>\n",
       "      <th>Hour</th>\n",
       "      <th>Market Demand</th>\n",
       "      <th>Output</th>\n",
       "      <th>Output/Cap ratio</th>\n",
       "      <th>MarketSurplus</th>\n",
       "      <th>yr-on-yr Surplus</th>\n",
       "    </tr>\n",
       "  </thead>\n",
       "  <tbody>\n",
       "    <tr>\n",
       "      <th>6247</th>\n",
       "      <td>2018-09-18</td>\n",
       "      <td>8</td>\n",
       "      <td>19373.0</td>\n",
       "      <td>15268.0</td>\n",
       "      <td>0.729444</td>\n",
       "      <td>-4105.0</td>\n",
       "      <td>-4675.0</td>\n",
       "    </tr>\n",
       "    <tr>\n",
       "      <th>4540</th>\n",
       "      <td>2018-07-09</td>\n",
       "      <td>5</td>\n",
       "      <td>18544.0</td>\n",
       "      <td>16957.0</td>\n",
       "      <td>0.620204</td>\n",
       "      <td>-1587.0</td>\n",
       "      <td>-4193.0</td>\n",
       "    </tr>\n",
       "    <tr>\n",
       "      <th>3643</th>\n",
       "      <td>2018-06-01</td>\n",
       "      <td>20</td>\n",
       "      <td>17527.0</td>\n",
       "      <td>15679.0</td>\n",
       "      <td>0.575989</td>\n",
       "      <td>-1848.0</td>\n",
       "      <td>-975.0</td>\n",
       "    </tr>\n",
       "    <tr>\n",
       "      <th>6306</th>\n",
       "      <td>2018-09-20</td>\n",
       "      <td>19</td>\n",
       "      <td>16953.0</td>\n",
       "      <td>15705.0</td>\n",
       "      <td>0.563671</td>\n",
       "      <td>-1248.0</td>\n",
       "      <td>2994.0</td>\n",
       "    </tr>\n",
       "    <tr>\n",
       "      <th>5081</th>\n",
       "      <td>2018-07-31</td>\n",
       "      <td>18</td>\n",
       "      <td>19649.0</td>\n",
       "      <td>17855.0</td>\n",
       "      <td>0.667951</td>\n",
       "      <td>-1794.0</td>\n",
       "      <td>1611.0</td>\n",
       "    </tr>\n",
       "    <tr>\n",
       "      <th>6020</th>\n",
       "      <td>2018-09-08</td>\n",
       "      <td>21</td>\n",
       "      <td>14582.0</td>\n",
       "      <td>14321.0</td>\n",
       "      <td>0.505275</td>\n",
       "      <td>-261.0</td>\n",
       "      <td>1433.0</td>\n",
       "    </tr>\n",
       "    <tr>\n",
       "      <th>732</th>\n",
       "      <td>2018-01-31</td>\n",
       "      <td>13</td>\n",
       "      <td>21254.0</td>\n",
       "      <td>19501.0</td>\n",
       "      <td>0.619040</td>\n",
       "      <td>-1753.0</td>\n",
       "      <td>-1306.0</td>\n",
       "    </tr>\n",
       "  </tbody>\n",
       "</table>\n",
       "</div>"
      ],
      "text/plain": [
       "            Date  Hour  Market Demand   Output  Output/Cap ratio  \\\n",
       "6247  2018-09-18     8        19373.0  15268.0          0.729444   \n",
       "4540  2018-07-09     5        18544.0  16957.0          0.620204   \n",
       "3643  2018-06-01    20        17527.0  15679.0          0.575989   \n",
       "6306  2018-09-20    19        16953.0  15705.0          0.563671   \n",
       "5081  2018-07-31    18        19649.0  17855.0          0.667951   \n",
       "6020  2018-09-08    21        14582.0  14321.0          0.505275   \n",
       "732   2018-01-31    13        21254.0  19501.0          0.619040   \n",
       "\n",
       "      MarketSurplus  yr-on-yr Surplus  \n",
       "6247        -4105.0           -4675.0  \n",
       "4540        -1587.0           -4193.0  \n",
       "3643        -1848.0            -975.0  \n",
       "6306        -1248.0            2994.0  \n",
       "5081        -1794.0            1611.0  \n",
       "6020         -261.0            1433.0  \n",
       "732         -1753.0           -1306.0  "
      ]
     },
     "execution_count": 22,
     "metadata": {},
     "output_type": "execute_result"
    }
   ],
   "source": [
    "#sanity check\n",
    "data_x.sample(7)"
   ]
  },
  {
   "cell_type": "markdown",
   "id": "bdba09cb",
   "metadata": {},
   "source": [
    "For example, row 5081 shows that we have a substatial yr-on-yr surplus (1600 MW), and market demand is not particularly high (less than 20,000 MW). Therefore, we should expect a price that is not an outlier."
   ]
  },
  {
   "cell_type": "code",
   "execution_count": 23,
   "id": "98495e3d",
   "metadata": {},
   "outputs": [
    {
     "data": {
      "text/plain": [
       "35.2"
      ]
     },
     "execution_count": 23,
     "metadata": {},
     "output_type": "execute_result"
    }
   ],
   "source": [
    "old_df.iloc[5081]['Price']"
   ]
  },
  {
   "cell_type": "markdown",
   "id": "e82862f3",
   "metadata": {},
   "source": [
    "Furthermore, row 6247 shows there is significant market deficit as well as yr-on-yr deficit, while system operator has utilized more than 70% of its resources to meet the demand. We should expect beyong normal price levels for this instance."
   ]
  },
  {
   "cell_type": "code",
   "execution_count": 24,
   "id": "05192e9c",
   "metadata": {},
   "outputs": [
    {
     "data": {
      "text/plain": [
       "41.69"
      ]
     },
     "execution_count": 24,
     "metadata": {},
     "output_type": "execute_result"
    }
   ],
   "source": [
    "old_df.iloc[6247]['Price']"
   ]
  },
  {
   "cell_type": "markdown",
   "id": "f3641ed2",
   "metadata": {},
   "source": [
    "This price for relatively early morning is indeed unusual.\n",
    "\n",
    "For reference, we will take another look at the price distribution."
   ]
  },
  {
   "cell_type": "code",
   "execution_count": 33,
   "id": "20951d10",
   "metadata": {},
   "outputs": [
    {
     "data": {
      "image/png": "[encoded data removed]",
      "text/plain": [
       "<Figure size 864x432 with 1 Axes>"
      ]
     },
     "metadata": {
      "needs_background": "light"
     },
     "output_type": "display_data"
    }
   ],
   "source": [
    "# initiate the plot and setting the size\n",
    "plt.figure(figsize=(12,6))\n",
    "old_df['Price'].plot(kind='hist',bins=60)\n",
    "plt.axvline(old_df['Price'].mean(), color='k', linestyle='dashed', linewidth=1)\n",
    "plt.axvline(35, color='r', linestyle='solid', linewidth=1)\n",
    "plt.title('Price Distribution for the year 2018')\n",
    "plt.show()"
   ]
  },
  {
   "cell_type": "markdown",
   "id": "2cd51dc3",
   "metadata": {},
   "source": [
    "To Do list:\n",
    "\n",
    " * * Surplus (demand and output)\n",
    " * Demand trajectory (apply shift to see where is demand going)\n",
    " * Surplus trajectory (apply shift to see is the market tending towards equilibrium or against it)\n",
    " * output/Capacity value\n",
    " * output capacity trajectory\n",
    " * * year on year surplus (value)\n",
    " * year on year deficit (trajectory)\n",
    " \n",
    " * demand (value)"
   ]
  },
  {
   "cell_type": "markdown",
   "id": "3d279978",
   "metadata": {},
   "source": [
    "Also do these:\n",
    " * confusion matrix 1 \n",
    " * Model evaluation [2]\n",
    " * Up-sampling [3] \n",
    " * Re-run all the models on the shift [4] (1,2,3) \n",
    " \n",
    " * Classification report (same lecture as above) ***"
   ]
  },
  {
   "cell_type": "code",
   "execution_count": 34,
   "id": "d476c0db",
   "metadata": {},
   "outputs": [
    {
     "data": {
      "text/html": [
       "<div>\n",
       "<style scoped>\n",
       "    .dataframe tbody tr th:only-of-type {\n",
       "        vertical-align: middle;\n",
       "    }\n",
       "\n",
       "    .dataframe tbody tr th {\n",
       "        vertical-align: top;\n",
       "    }\n",
       "\n",
       "    .dataframe thead th {\n",
       "        text-align: right;\n",
       "    }\n",
       "</style>\n",
       "<table border=\"1\" class=\"dataframe\">\n",
       "  <thead>\n",
       "    <tr style=\"text-align: right;\">\n",
       "      <th></th>\n",
       "      <th>Date</th>\n",
       "      <th>Hour</th>\n",
       "      <th>Market Demand</th>\n",
       "      <th>Output</th>\n",
       "      <th>Output/Cap ratio</th>\n",
       "      <th>MarketSurplus</th>\n",
       "      <th>yr-on-yr Surplus</th>\n",
       "    </tr>\n",
       "  </thead>\n",
       "  <tbody>\n",
       "    <tr>\n",
       "      <th>0</th>\n",
       "      <td>2018-01-01</td>\n",
       "      <td>1</td>\n",
       "      <td>18662.0</td>\n",
       "      <td>17974.0</td>\n",
       "      <td>0.628835</td>\n",
       "      <td>-688.0</td>\n",
       "      <td>NaN</td>\n",
       "    </tr>\n",
       "    <tr>\n",
       "      <th>1</th>\n",
       "      <td>2018-01-01</td>\n",
       "      <td>2</td>\n",
       "      <td>18060.0</td>\n",
       "      <td>17797.0</td>\n",
       "      <td>0.606330</td>\n",
       "      <td>-263.0</td>\n",
       "      <td>NaN</td>\n",
       "    </tr>\n",
       "    <tr>\n",
       "      <th>2</th>\n",
       "      <td>2018-01-01</td>\n",
       "      <td>3</td>\n",
       "      <td>18429.0</td>\n",
       "      <td>18044.0</td>\n",
       "      <td>0.609801</td>\n",
       "      <td>-385.0</td>\n",
       "      <td>NaN</td>\n",
       "    </tr>\n",
       "    <tr>\n",
       "      <th>3</th>\n",
       "      <td>2018-01-01</td>\n",
       "      <td>4</td>\n",
       "      <td>19137.0</td>\n",
       "      <td>19004.0</td>\n",
       "      <td>0.635543</td>\n",
       "      <td>-133.0</td>\n",
       "      <td>-1965.0</td>\n",
       "    </tr>\n",
       "    <tr>\n",
       "      <th>4</th>\n",
       "      <td>2018-01-01</td>\n",
       "      <td>5</td>\n",
       "      <td>19470.0</td>\n",
       "      <td>19280.0</td>\n",
       "      <td>0.640979</td>\n",
       "      <td>-190.0</td>\n",
       "      <td>-2713.0</td>\n",
       "    </tr>\n",
       "  </tbody>\n",
       "</table>\n",
       "</div>"
      ],
      "text/plain": [
       "         Date  Hour  Market Demand   Output  Output/Cap ratio  MarketSurplus  \\\n",
       "0  2018-01-01     1        18662.0  17974.0          0.628835         -688.0   \n",
       "1  2018-01-01     2        18060.0  17797.0          0.606330         -263.0   \n",
       "2  2018-01-01     3        18429.0  18044.0          0.609801         -385.0   \n",
       "3  2018-01-01     4        19137.0  19004.0          0.635543         -133.0   \n",
       "4  2018-01-01     5        19470.0  19280.0          0.640979         -190.0   \n",
       "\n",
       "   yr-on-yr Surplus  \n",
       "0               NaN  \n",
       "1               NaN  \n",
       "2               NaN  \n",
       "3           -1965.0  \n",
       "4           -2713.0  "
      ]
     },
     "execution_count": 34,
     "metadata": {},
     "output_type": "execute_result"
    }
   ],
   "source": [
    "# sanity check\n",
    "data_x.head()"
   ]
  },
  {
   "cell_type": "code",
   "execution_count": 37,
   "id": "b3725107",
   "metadata": {},
   "outputs": [
    {
     "data": {
      "text/plain": [
       "Date                0\n",
       "Hour                0\n",
       "Market Demand       3\n",
       "Output              3\n",
       "Output/Cap ratio    3\n",
       "MarketSurplus       3\n",
       "yr-on-yr Surplus    6\n",
       "dtype: int64"
      ]
     },
     "execution_count": 37,
     "metadata": {},
     "output_type": "execute_result"
    }
   ],
   "source": [
    "# sanity check\n",
    "data_x.isnull().sum()"
   ]
  },
  {
   "cell_type": "markdown",
   "id": "5692e3f5",
   "metadata": {},
   "source": [
    "We will proceed to fill the missing values with the column's mean value."
   ]
  },
  {
   "cell_type": "code",
   "execution_count": 40,
   "id": "fa26afcb",
   "metadata": {},
   "outputs": [],
   "source": [
    "# filling the missing values\n",
    "data_x['yr-on-yr Surplus'].fillna(data_x['yr-on-yr Surplus'].mean(),inplace=True)"
   ]
  },
  {
   "cell_type": "code",
   "execution_count": 41,
   "id": "45dfba4e",
   "metadata": {},
   "outputs": [
    {
     "data": {
      "text/plain": [
       "Date                0\n",
       "Hour                0\n",
       "Market Demand       3\n",
       "Output              3\n",
       "Output/Cap ratio    3\n",
       "MarketSurplus       3\n",
       "yr-on-yr Surplus    0\n",
       "dtype: int64"
      ]
     },
     "execution_count": 41,
     "metadata": {},
     "output_type": "execute_result"
    }
   ],
   "source": [
    "# sanity check\n",
    "data_x.isnull().sum()"
   ]
  },
  {
   "cell_type": "code",
   "execution_count": 42,
   "id": "40077b62",
   "metadata": {},
   "outputs": [],
   "source": [
    "data_x['Market Demand'].fillna(data_x['Market Demand'].mean(),inplace=True)\n",
    "data_x['Output'].fillna(data_x['Output'].mean(),inplace=True)\n",
    "data_x['Output/Cap ratio'].fillna(data_x['Output/Cap ratio'].mean(),inplace=True)\n",
    "data_x['MarketSurplus'].fillna(data_x['MarketSurplus'].mean(),inplace=True)"
   ]
  },
  {
   "cell_type": "code",
   "execution_count": 43,
   "id": "546ea6b4",
   "metadata": {},
   "outputs": [
    {
     "data": {
      "text/plain": [
       "Date                0\n",
       "Hour                0\n",
       "Market Demand       0\n",
       "Output              0\n",
       "Output/Cap ratio    0\n",
       "MarketSurplus       0\n",
       "yr-on-yr Surplus    0\n",
       "dtype: int64"
      ]
     },
     "execution_count": 43,
     "metadata": {},
     "output_type": "execute_result"
    }
   ],
   "source": [
    "# sanity check\n",
    "data_x.isnull().sum()"
   ]
  },
  {
   "cell_type": "markdown",
   "id": "ad8718bb",
   "metadata": {},
   "source": [
    "Now our data is a good starting point for investigating potential relationships between variables. We begin with asserting that simultaneous high Market Demand, high Output/Capacity ratio, with Market deficit and year-on-year deficits, are likely to co-occur with price spikes. We will now create the necessary target for our modelling proceedure."
   ]
  },
  {
   "cell_type": "markdown",
   "id": "9c15feef",
   "metadata": {},
   "source": [
    "# <center> Target </center>\n",
    "\n",
    "Our target is a binary variable, representing whether a connection should exist (buying electricity from the grid) or not (utilizing local electricity storage, in order to save money).\n",
    "\n",
    "One key challenge with this setting a connectivity threshold. However, for the moment, we will refrain from fine-tuning this variable and start with the simple exercise of creating the binary variable with a non-scientific (non-optimized) threshold."
   ]
  },
  {
   "cell_type": "code",
   "execution_count": 49,
   "id": "0547c283",
   "metadata": {},
   "outputs": [
    {
     "data": {
      "image/png": "[encoded data removed]",
      "text/plain": [
       "<Figure size 1008x432 with 1 Axes>"
      ]
     },
     "metadata": {
      "needs_background": "light"
     },
     "output_type": "display_data"
    }
   ],
   "source": [
    "# initiate the plot and setting the size\n",
    "plt.figure(figsize=(14,6))\n",
    "old_df['Price'].plot(kind='hist',bins=100)\n",
    "plt.axvline(old_df['Price'].mean(), color='k', linestyle='dashed', linewidth=1)\n",
    "plt.axvline(34, color='r', linestyle='solid', linewidth=1)\n",
    "plt.legend(loc = 'upper right')\n",
    "plt.title('Price Distribution for the year 2018')\n",
    "plt.show()"
   ]
  },
  {
   "cell_type": "code",
   "execution_count": 186,
   "id": "33330fae",
   "metadata": {},
   "outputs": [],
   "source": [
    "# creating a new dataframe\n",
    "df_target=pd.DataFrame()\n",
    "\n",
    "# importing price\n",
    "df_target['Price'] = old_df['Price']\n",
    "\n",
    "# connect column represents a True or False (binary) variable\n",
    "df_target['connect'] = df_target.apply(lambda x: int(1) if int(x['Price']) < 40 else int(0), axis=1)"
   ]
  },
  {
   "cell_type": "code",
   "execution_count": 51,
   "id": "5e4db119",
   "metadata": {},
   "outputs": [
    {
     "data": {
      "text/html": [
       "<div>\n",
       "<style scoped>\n",
       "    .dataframe tbody tr th:only-of-type {\n",
       "        vertical-align: middle;\n",
       "    }\n",
       "\n",
       "    .dataframe tbody tr th {\n",
       "        vertical-align: top;\n",
       "    }\n",
       "\n",
       "    .dataframe thead th {\n",
       "        text-align: right;\n",
       "    }\n",
       "</style>\n",
       "<table border=\"1\" class=\"dataframe\">\n",
       "  <thead>\n",
       "    <tr style=\"text-align: right;\">\n",
       "      <th></th>\n",
       "      <th>Price</th>\n",
       "      <th>connect</th>\n",
       "    </tr>\n",
       "  </thead>\n",
       "  <tbody>\n",
       "    <tr>\n",
       "      <th>5763</th>\n",
       "      <td>42.86</td>\n",
       "      <td>0</td>\n",
       "    </tr>\n",
       "    <tr>\n",
       "      <th>368</th>\n",
       "      <td>54.95</td>\n",
       "      <td>0</td>\n",
       "    </tr>\n",
       "    <tr>\n",
       "      <th>5326</th>\n",
       "      <td>21.35</td>\n",
       "      <td>1</td>\n",
       "    </tr>\n",
       "    <tr>\n",
       "      <th>3960</th>\n",
       "      <td>9.41</td>\n",
       "      <td>1</td>\n",
       "    </tr>\n",
       "    <tr>\n",
       "      <th>8241</th>\n",
       "      <td>45.11</td>\n",
       "      <td>0</td>\n",
       "    </tr>\n",
       "    <tr>\n",
       "      <th>227</th>\n",
       "      <td>13.34</td>\n",
       "      <td>1</td>\n",
       "    </tr>\n",
       "    <tr>\n",
       "      <th>6553</th>\n",
       "      <td>14.31</td>\n",
       "      <td>1</td>\n",
       "    </tr>\n",
       "  </tbody>\n",
       "</table>\n",
       "</div>"
      ],
      "text/plain": [
       "      Price  connect\n",
       "5763  42.86        0\n",
       "368   54.95        0\n",
       "5326  21.35        1\n",
       "3960   9.41        1\n",
       "8241  45.11        0\n",
       "227   13.34        1\n",
       "6553  14.31        1"
      ]
     },
     "execution_count": 51,
     "metadata": {},
     "output_type": "execute_result"
    }
   ],
   "source": [
    "# sanity check\n",
    "df_target.sample(7)"
   ]
  },
  {
   "cell_type": "markdown",
   "id": "afb1abeb",
   "metadata": {},
   "source": [
    "Total instances of price going above 40 dollars for one MWh of electricity"
   ]
  },
  {
   "cell_type": "code",
   "execution_count": 52,
   "id": "2a868684",
   "metadata": {},
   "outputs": [
    {
     "data": {
      "text/plain": [
       "1344"
      ]
     },
     "execution_count": 52,
     "metadata": {},
     "output_type": "execute_result"
    }
   ],
   "source": [
    "8760 - (df_target['connect'].sum())"
   ]
  },
  {
   "cell_type": "code",
   "execution_count": 53,
   "id": "7e68ecdf",
   "metadata": {},
   "outputs": [
    {
     "data": {
      "text/plain": [
       "15.342465753424658"
      ]
     },
     "execution_count": 53,
     "metadata": {},
     "output_type": "execute_result"
    }
   ],
   "source": [
    "# this represents a percentage of ...\n",
    "(8760 - (df_target['connect'].sum()))/8760 * 100"
   ]
  },
  {
   "cell_type": "markdown",
   "id": "059b810b",
   "metadata": {},
   "source": [
    "# <center> Modelling </center>"
   ]
  },
  {
   "cell_type": "markdown",
   "id": "914c626b",
   "metadata": {},
   "source": [
    "We will begin our modelling with a handful of key variables of interest, and later we will expand on it. For now, these variables are:\n",
    "\n",
    "* Market Demand\n",
    "* Market Surplus\n",
    "* Output/Capacity ratio\n",
    "* Year-on-Year Surplus\n"
   ]
  },
  {
   "cell_type": "code",
   "execution_count": 59,
   "id": "d731ff3e",
   "metadata": {},
   "outputs": [],
   "source": [
    "from sklearn.model_selection import train_test_split"
   ]
  },
  {
   "cell_type": "code",
   "execution_count": 54,
   "id": "5809545c",
   "metadata": {},
   "outputs": [],
   "source": [
    "data_x_core = pd.DataFrame()\n",
    "\n",
    "data_x_core = data_x[['Market Demand','MarketSurplus','Output/Cap ratio','yr-on-yr Surplus']]"
   ]
  },
  {
   "cell_type": "code",
   "execution_count": 56,
   "id": "ba2d0ba7",
   "metadata": {
    "scrolled": false
   },
   "outputs": [
    {
     "data": {
      "text/plain": [
       "<AxesSubplot:>"
      ]
     },
     "execution_count": 56,
     "metadata": {},
     "output_type": "execute_result"
    },
    {
     "data": {
      "image/png": "[encoded data removed]",
      "text/plain": [
       "<Figure size 432x288 with 2 Axes>"
      ]
     },
     "metadata": {
      "needs_background": "light"
     },
     "output_type": "display_data"
    }
   ],
   "source": [
    "sns.heatmap(data_x_core.corr(),annot=True)"
   ]
  },
  {
   "cell_type": "markdown",
   "id": "0e2a4bff",
   "metadata": {},
   "source": [
    "This specification (feature selection) is not ideal, because some of these variables are strongly correlated. Modelling is an iterative process, and our final features may differ from what we start with; and we can't allow such problems to stop us from making progress. So, we soldier on."
   ]
  },
  {
   "cell_type": "markdown",
   "id": "2373d048",
   "metadata": {},
   "source": [
    "Next, we need to split our data into at least two pieces for training and testing."
   ]
  },
  {
   "cell_type": "code",
   "execution_count": 61,
   "id": "8405b1b0",
   "metadata": {},
   "outputs": [],
   "source": [
    "# Splitting the data\n",
    "X_train, X_test, y_train, y_test = train_test_split(data_x_core, df_target, test_size=0.3)"
   ]
  },
  {
   "cell_type": "markdown",
   "id": "4174f4fd",
   "metadata": {},
   "source": [
    "# Logistic Regression\n",
    "\n"
   ]
  },
  {
   "cell_type": "code",
   "execution_count": 62,
   "id": "d0916ae8",
   "metadata": {},
   "outputs": [],
   "source": [
    "# importing the package\n",
    "from sklearn.linear_model import LogisticRegression"
   ]
  },
  {
   "cell_type": "code",
   "execution_count": 63,
   "id": "36a38ec0",
   "metadata": {},
   "outputs": [],
   "source": [
    "# importing the package\n",
    "from sklearn.preprocessing import StandardScaler"
   ]
  },
  {
   "cell_type": "code",
   "execution_count": 72,
   "id": "a220e649",
   "metadata": {},
   "outputs": [],
   "source": [
    "scaler = StandardScaler()\n",
    "X_train_scaled = scaler.fit_transform(X_train)\n",
    "X_test_scaled = scaler.fit_transform(X_test)"
   ]
  },
  {
   "cell_type": "code",
   "execution_count": 74,
   "id": "48dd5aca",
   "metadata": {},
   "outputs": [
    {
     "name": "stdout",
     "output_type": "stream",
     "text": [
      "The TRAIN classification accuracy is:  0.8646444879321592\n",
      "The TEST classification accuracy is:  0.8626331811263318\n"
     ]
    }
   ],
   "source": [
    "# Fitting the linear model\n",
    "LR_model = LogisticRegression(C=0.1)\n",
    "LR_model.fit(X_train_scaled, y_train['connect'])\n",
    "\n",
    "print(f\"The TRAIN classification accuracy is:  {LR_model.score(X_train_scaled,y_train['connect'])}\")\n",
    "print(f\"The TEST classification accuracy is:  {LR_model.score(X_test_scaled,y_test['connect'])}\")"
   ]
  },
  {
   "cell_type": "markdown",
   "id": "cbb048f2",
   "metadata": {},
   "source": [
    "In order to evaluate this performance, we need to look at the confusion matrix.\n",
    "\n",
    "In binary classification, there are four possible outcomes to making a prediction:\n",
    "\n",
    "1. **True Positive (TP)**: Correctly predict that $x$ belongs to class 1/positive class\n",
    "2. **False Positive (FP)**: Incorrectly predict that $x$  belongs to class 1/positive class\n",
    "3. **True Negative (TN)**: Correctly predict $x$'s membership in class 0/negative class \n",
    "4. **False Negative (FN)**: Incorrectly predict $x$'s membership in class 0/negative class\n",
    "\n",
    "If we put these outcomes in a matrix, we arrive at what is known as a confusion matrix:\n",
    "\n",
    "|     |  Predicted Class 0  |   Predicted Class 1  | \n",
    "| --------- |:---:|:---:|\n",
    "|True Class 0|**TN** | **FP** | \n",
    "|True Class 1|**FN** |**TP** | \n",
    "\n",
    "Using these definitions, accuracy can be written as:\n",
    "\n",
    "$$Accuracy = \\frac{\\text{# correct predictions}}{\\text{# all predictions}}= \\frac{TN+TP}{TN+FP+FN+TP}$$"
   ]
  },
  {
   "cell_type": "code",
   "execution_count": 75,
   "id": "bcfd8844",
   "metadata": {},
   "outputs": [],
   "source": [
    "# importing useful packages\n",
    "from sklearn.metrics import confusion_matrix, plot_confusion_matrix, classification_report"
   ]
  },
  {
   "cell_type": "code",
   "execution_count": 76,
   "id": "e2758c90",
   "metadata": {},
   "outputs": [
    {
     "name": "stderr",
     "output_type": "stream",
     "text": [
      "C:\\Users\\Behro\\anaconda3\\lib\\site-packages\\sklearn\\base.py:443: UserWarning: X has feature names, but LogisticRegression was fitted without feature names\n",
      "  warnings.warn(\n"
     ]
    },
    {
     "data": {
      "text/plain": [
       "array([[ 120,  267],\n",
       "       [ 909, 1332]], dtype=int64)"
      ]
     },
     "execution_count": 76,
     "metadata": {},
     "output_type": "execute_result"
    }
   ],
   "source": [
    "y_pred = LR_model.predict(X_test)\n",
    "confusion_matrix(y_test['connect'], y_pred)"
   ]
  },
  {
   "cell_type": "markdown",
   "id": "a16949f3",
   "metadata": {},
   "source": [
    "This model is trying to predict class 0 (meaning disconnect) in order to help customers save on their electricity bills. In this example, we have only identified this correctly 120 times. Which is why we need to improve things substatially."
   ]
  },
  {
   "cell_type": "code",
   "execution_count": 77,
   "id": "d5eeaf46",
   "metadata": {},
   "outputs": [
    {
     "name": "stderr",
     "output_type": "stream",
     "text": [
      "C:\\Users\\Behro\\anaconda3\\lib\\site-packages\\sklearn\\utils\\deprecation.py:87: FutureWarning: Function plot_confusion_matrix is deprecated; Function `plot_confusion_matrix` is deprecated in 1.0 and will be removed in 1.2. Use one of the class methods: ConfusionMatrixDisplay.from_predictions or ConfusionMatrixDisplay.from_estimator.\n",
      "  warnings.warn(msg, category=FutureWarning)\n",
      "C:\\Users\\Behro\\anaconda3\\lib\\site-packages\\sklearn\\base.py:443: UserWarning: X has feature names, but LogisticRegression was fitted without feature names\n",
      "  warnings.warn(\n"
     ]
    },
    {
     "data": {
      "text/plain": [
       "<sklearn.metrics._plot.confusion_matrix.ConfusionMatrixDisplay at 0x20c1bfc8fa0>"
      ]
     },
     "execution_count": 77,
     "metadata": {},
     "output_type": "execute_result"
    },
    {
     "data": {
      "image/png": "[encoded data removed]",
      "text/plain": [
       "<Figure size 432x288 with 2 Axes>"
      ]
     },
     "metadata": {
      "needs_background": "light"
     },
     "output_type": "display_data"
    }
   ],
   "source": [
    "plot_confusion_matrix(LR_model, X_test, y_test['connect'])"
   ]
  },
  {
   "cell_type": "markdown",
   "id": "ec66b884",
   "metadata": {},
   "source": [
    "We need to minimize False positives, because they are instances when prise has gone beyong our threshhold, and our forecast model has failed to see them happening. This will be our area of focus."
   ]
  },
  {
   "cell_type": "markdown",
   "id": "aedbc3e0",
   "metadata": {},
   "source": [
    "|     |  Predicted Class 0  |   Predicted Class 1  | \n",
    "| --------- |:---:|:---:|\n",
    "|True Class 0|**TN** | **FP** | \n",
    "|True Class 1|**FN** |**TP** | "
   ]
  },
  {
   "cell_type": "markdown",
   "id": "0dcd3d5d",
   "metadata": {},
   "source": [
    "## Hyper parameter optimization\n",
    "\n",
    "For this step, we need further split our data: about 20 percent for testing, and 80% for hyper-parameter optimization. This 80% (the remainder) will be further split into two chunks: 70% training, and 30% validation."
   ]
  },
  {
   "cell_type": "code",
   "execution_count": 78,
   "id": "51354c31",
   "metadata": {},
   "outputs": [],
   "source": [
    "# Taking a chuck for our 20% test set\n",
    "X_remainder, X_test, y_remainder, y_test = train_test_split(data_x_core, df_target['connect'], test_size = 0.2,random_state=1)"
   ]
  },
  {
   "cell_type": "code",
   "execution_count": 79,
   "id": "7fbb7495",
   "metadata": {},
   "outputs": [],
   "source": [
    "# Splitting the remainder in two chunks\n",
    "X_train, X_validation, y_train, y_validation = train_test_split(X_remainder, y_remainder, test_size = 0.3, random_state=1)"
   ]
  },
  {
   "cell_type": "code",
   "execution_count": 80,
   "id": "5845d6e1",
   "metadata": {},
   "outputs": [
    {
     "name": "stdout",
     "output_type": "stream",
     "text": [
      "Shape of test set: (1752, 4)\n",
      "Shape of validation set: (2103, 4)\n",
      "Shape of train set: (4905, 4)\n"
     ]
    }
   ],
   "source": [
    "print(f'Shape of test set: {X_test.shape}')\n",
    "print(f'Shape of validation set: {X_validation.shape}')\n",
    "print(f'Shape of train set: {X_train.shape}')"
   ]
  },
  {
   "cell_type": "code",
   "execution_count": 87,
   "id": "bff2681c",
   "metadata": {},
   "outputs": [],
   "source": [
    "scaler = StandardScaler()\n",
    "X_train_scaled = scaler.fit_transform(X_train)\n",
    "X_validation_scaled = scaler.fit_transform(X_validation)\n",
    "X_test_scaled = scaler.fit_transform(X_test)"
   ]
  },
  {
   "cell_type": "code",
   "execution_count": 81,
   "id": "36271964",
   "metadata": {},
   "outputs": [
    {
     "name": "stdout",
     "output_type": "stream",
     "text": [
      "Shape of test set: (1752,)\n",
      "Shape of validation set: (2103,)\n",
      "Shape of train set: (4905,)\n"
     ]
    }
   ],
   "source": [
    "print(f'Shape of test set: {y_test.shape}')\n",
    "print(f'Shape of validation set: {y_validation.shape}')\n",
    "print(f'Shape of train set: {y_train.shape}')"
   ]
  },
  {
   "cell_type": "code",
   "execution_count": 84,
   "id": "acb93248",
   "metadata": {},
   "outputs": [
    {
     "data": {
      "text/plain": [
       "0.8478364241559677"
      ]
     },
     "execution_count": 84,
     "metadata": {},
     "output_type": "execute_result"
    }
   ],
   "source": [
    "y_validation.mean()"
   ]
  },
  {
   "cell_type": "code",
   "execution_count": 88,
   "id": "27549288",
   "metadata": {},
   "outputs": [],
   "source": [
    "validation_scores = []\n",
    "train_scores = []\n",
    "\n",
    "# this variable is the key variable in Logistic Regression performance, and we seek to find an optimum point\n",
    "C_range = np.array([.00000001,.0000001,.000001,.00001,.0001,.001,0.1,\\\n",
    "                1,10,100,1000,10000,100000,1000000,10000000,100000000,1000000000])\n",
    "\n",
    "# this loop iterates through different C values\n",
    "for c in C_range:\n",
    "    my_logreg = LogisticRegression(C=c, random_state=1)\n",
    "    my_logreg.fit(X_train_scaled, y_train)\n",
    "    \n",
    "    # train on traning set\n",
    "    train_scores.append(my_logreg.score(X_train_scaled, y_train))\n",
    "\n",
    "    # score on validation set\n",
    "    validation_scores.append(my_logreg.score(X_validation_scaled, y_validation))\n",
    "    "
   ]
  },
  {
   "cell_type": "code",
   "execution_count": 90,
   "id": "c8e46576",
   "metadata": {},
   "outputs": [
    {
     "data": {
      "image/png": "[encoded data removed]",
      "text/plain": [
       "<Figure size 720x432 with 1 Axes>"
      ]
     },
     "metadata": {
      "needs_background": "light"
     },
     "output_type": "display_data"
    }
   ],
   "source": [
    "# initiating the plot\n",
    "plt.figure(figsize=(10, 6))\n",
    "plt.plot(C_range, train_scores,label=\"Train Score\",marker='.')\n",
    "plt.plot(C_range, validation_scores,label=\"Validation Scores\",marker='.')\n",
    "plt.xscale('log')\n",
    "plt.xlabel('C')\n",
    "plt.ylabel('Accuracy')\n",
    "plt.title('HyperParameter Optimization for Logistic Regression')\n",
    "plt.legend()\n",
    "plt.show();"
   ]
  },
  {
   "cell_type": "markdown",
   "id": "5451af8a",
   "metadata": {},
   "source": [
    "Best results can be obtained by setting parameter C equal to 1."
   ]
  },
  {
   "cell_type": "code",
   "execution_count": 98,
   "id": "a4f99d2a",
   "metadata": {},
   "outputs": [
    {
     "name": "stdout",
     "output_type": "stream",
     "text": [
      "The TRAIN classification accuracy is:  0.8654434250764526\n",
      "The TEST classification accuracy is:  0.8584474885844748\n"
     ]
    }
   ],
   "source": [
    "# Fitting the linear model\n",
    "LR_model = LogisticRegression(C=1)\n",
    "LR_model.fit(X_train_scaled, y_train)\n",
    "\n",
    "print(f\"The TRAIN classification accuracy is:  {LR_model.score(X_train_scaled,y_train)}\")\n",
    "print(f\"The TEST classification accuracy is:  {LR_model.score(X_test_scaled,y_test)}\")"
   ]
  },
  {
   "cell_type": "code",
   "execution_count": 101,
   "id": "d56a63a1",
   "metadata": {},
   "outputs": [
    {
     "data": {
      "text/plain": [
       "0.8478364241559677"
      ]
     },
     "execution_count": 101,
     "metadata": {},
     "output_type": "execute_result"
    }
   ],
   "source": [
    "y_validation.mean()"
   ]
  },
  {
   "cell_type": "markdown",
   "id": "48631535",
   "metadata": {},
   "source": [
    "This result is not particularly impressive. The validation dataset that we have, indicates that 84.7% of the time connection to the grid is beneficial. The accuracy of our model is 85.8%, which means if we did not have a model, we would still be right most of the time. However, we need to understand how closely are our predictions following the necessary NEGATIVE or zero outcomes."
   ]
  },
  {
   "cell_type": "code",
   "execution_count": 103,
   "id": "8e0c1b9c",
   "metadata": {
    "scrolled": false
   },
   "outputs": [
    {
     "name": "stderr",
     "output_type": "stream",
     "text": [
      "C:\\Users\\Behro\\anaconda3\\lib\\site-packages\\sklearn\\utils\\deprecation.py:87: FutureWarning: Function plot_confusion_matrix is deprecated; Function `plot_confusion_matrix` is deprecated in 1.0 and will be removed in 1.2. Use one of the class methods: ConfusionMatrixDisplay.from_predictions or ConfusionMatrixDisplay.from_estimator.\n",
      "  warnings.warn(msg, category=FutureWarning)\n"
     ]
    },
    {
     "data": {
      "text/plain": [
       "<sklearn.metrics._plot.confusion_matrix.ConfusionMatrixDisplay at 0x20c20c05880>"
      ]
     },
     "execution_count": 103,
     "metadata": {},
     "output_type": "execute_result"
    },
    {
     "data": {
      "image/png": "[encoded data removed]",
      "text/plain": [
       "<Figure size 432x288 with 2 Axes>"
      ]
     },
     "metadata": {
      "needs_background": "light"
     },
     "output_type": "display_data"
    }
   ],
   "source": [
    "plot_confusion_matrix(LR_model, X_test_scaled, y_test)"
   ]
  },
  {
   "cell_type": "markdown",
   "id": "77d18ca0",
   "metadata": {},
   "source": [
    "|     |  Predicted Class 0  |   Predicted Class 1  | \n",
    "| --------- |:---:|:---:|\n",
    "|True Class 0|**TN** | **FP** | \n",
    "|True Class 1|**FN** |**TP** | "
   ]
  },
  {
   "cell_type": "markdown",
   "id": "36e94564",
   "metadata": {},
   "source": [
    "We seek to maximize True Negatives (disconnect because a price spike is likely), while minimizing False positives (remining connected to the grid while a price spike is happening)."
   ]
  },
  {
   "cell_type": "code",
   "execution_count": 130,
   "id": "b32b0897",
   "metadata": {
    "scrolled": true
   },
   "outputs": [
    {
     "name": "stdout",
     "output_type": "stream",
     "text": [
      "              precision    recall  f1-score   support\n",
      "\n",
      "           0       0.13      0.18      0.15       285\n",
      "           1       0.83      0.77      0.80      1467\n",
      "\n",
      "    accuracy                           0.68      1752\n",
      "   macro avg       0.48      0.48      0.48      1752\n",
      "weighted avg       0.72      0.68      0.69      1752\n",
      "\n"
     ]
    },
    {
     "name": "stderr",
     "output_type": "stream",
     "text": [
      "C:\\Users\\Behro\\anaconda3\\lib\\site-packages\\sklearn\\base.py:443: UserWarning: X has feature names, but LogisticRegression was fitted without feature names\n",
      "  warnings.warn(\n"
     ]
    }
   ],
   "source": [
    "print(classification_report(y_test, LR_model.predict(X_test)))"
   ]
  },
  {
   "cell_type": "markdown",
   "id": "28cd8eec",
   "metadata": {},
   "source": [
    "Because of the fact that accuracy alone can be misleading depending on the class balance of the data, alternative metrics consider the relative proportions of correct and incorrect classifications in both the positive and negative classes. Two of the most common are *precision* and *recall*. \n",
    "\n",
    "Precision measures what proportion of a model assigned to positive are actually members of the positive class:\n",
    "\n",
    "$$Precision = \\frac{TP}{TP+FP}$$\n",
    "\n",
    "On the other hand, recall measures how many members of the positive class the model correctly identified out of the total positives:\n",
    "\n",
    "$$Recall = \\frac{TP}{TP+FN}$$"
   ]
  },
  {
   "cell_type": "markdown",
   "id": "32f0c47a",
   "metadata": {},
   "source": [
    "# Decision Tree\n",
    "\n"
   ]
  },
  {
   "cell_type": "code",
   "execution_count": 104,
   "id": "82e1ee62",
   "metadata": {},
   "outputs": [],
   "source": [
    "from sklearn.tree import DecisionTreeClassifier"
   ]
  },
  {
   "cell_type": "code",
   "execution_count": 106,
   "id": "bf8dd501",
   "metadata": {},
   "outputs": [
    {
     "data": {
      "text/html": [
       "<div>\n",
       "<style scoped>\n",
       "    .dataframe tbody tr th:only-of-type {\n",
       "        vertical-align: middle;\n",
       "    }\n",
       "\n",
       "    .dataframe tbody tr th {\n",
       "        vertical-align: top;\n",
       "    }\n",
       "\n",
       "    .dataframe thead th {\n",
       "        text-align: right;\n",
       "    }\n",
       "</style>\n",
       "<table border=\"1\" class=\"dataframe\">\n",
       "  <thead>\n",
       "    <tr style=\"text-align: right;\">\n",
       "      <th></th>\n",
       "      <th>Market Demand</th>\n",
       "      <th>MarketSurplus</th>\n",
       "      <th>Output/Cap ratio</th>\n",
       "      <th>yr-on-yr Surplus</th>\n",
       "    </tr>\n",
       "  </thead>\n",
       "  <tbody>\n",
       "    <tr>\n",
       "      <th>6468</th>\n",
       "      <td>17825.0</td>\n",
       "      <td>-1670.0</td>\n",
       "      <td>0.643856</td>\n",
       "      <td>1939.0</td>\n",
       "    </tr>\n",
       "    <tr>\n",
       "      <th>1821</th>\n",
       "      <td>16277.0</td>\n",
       "      <td>-2058.0</td>\n",
       "      <td>0.545082</td>\n",
       "      <td>2584.0</td>\n",
       "    </tr>\n",
       "    <tr>\n",
       "      <th>2649</th>\n",
       "      <td>14269.0</td>\n",
       "      <td>-291.0</td>\n",
       "      <td>0.593520</td>\n",
       "      <td>2612.0</td>\n",
       "    </tr>\n",
       "    <tr>\n",
       "      <th>3065</th>\n",
       "      <td>17287.0</td>\n",
       "      <td>-1157.0</td>\n",
       "      <td>0.645458</td>\n",
       "      <td>-2049.0</td>\n",
       "    </tr>\n",
       "    <tr>\n",
       "      <th>8223</th>\n",
       "      <td>19731.0</td>\n",
       "      <td>-405.0</td>\n",
       "      <td>0.720447</td>\n",
       "      <td>-337.0</td>\n",
       "    </tr>\n",
       "    <tr>\n",
       "      <th>1752</th>\n",
       "      <td>16660.0</td>\n",
       "      <td>-1639.0</td>\n",
       "      <td>0.559046</td>\n",
       "      <td>3145.0</td>\n",
       "    </tr>\n",
       "    <tr>\n",
       "      <th>5347</th>\n",
       "      <td>16735.0</td>\n",
       "      <td>-1966.0</td>\n",
       "      <td>0.587447</td>\n",
       "      <td>3589.0</td>\n",
       "    </tr>\n",
       "  </tbody>\n",
       "</table>\n",
       "</div>"
      ],
      "text/plain": [
       "      Market Demand  MarketSurplus  Output/Cap ratio  yr-on-yr Surplus\n",
       "6468        17825.0        -1670.0          0.643856            1939.0\n",
       "1821        16277.0        -2058.0          0.545082            2584.0\n",
       "2649        14269.0         -291.0          0.593520            2612.0\n",
       "3065        17287.0        -1157.0          0.645458           -2049.0\n",
       "8223        19731.0         -405.0          0.720447            -337.0\n",
       "1752        16660.0        -1639.0          0.559046            3145.0\n",
       "5347        16735.0        -1966.0          0.587447            3589.0"
      ]
     },
     "execution_count": 106,
     "metadata": {},
     "output_type": "execute_result"
    }
   ],
   "source": [
    "data_x_core.sample(7)"
   ]
  },
  {
   "cell_type": "code",
   "execution_count": 187,
   "id": "eeed4564",
   "metadata": {},
   "outputs": [],
   "source": [
    "# Splitting the data\n",
    "X_train, X_test, y_train, y_test = train_test_split(data_x_core, df_target['connect'], test_size=0.3)"
   ]
  },
  {
   "cell_type": "code",
   "execution_count": 188,
   "id": "5e99a458",
   "metadata": {},
   "outputs": [
    {
     "name": "stdout",
     "output_type": "stream",
     "text": [
      "The TRAIN classification accuracy is:  1.0\n",
      "The TEST classification accuracy is:  0.8116438356164384\n"
     ]
    }
   ],
   "source": [
    "#Fit to the training data\n",
    "DT_model = DecisionTreeClassifier()\n",
    "DT_model.fit(X_train, y_train)\n",
    "\n",
    "print(f\"The TRAIN classification accuracy is:  {DT_model.score(X_train,y_train)}\")\n",
    "print(f\"The TEST classification accuracy is:  {DT_model.score(X_test,y_test)}\")"
   ]
  },
  {
   "cell_type": "markdown",
   "id": "7037f1ea",
   "metadata": {},
   "source": [
    "This model seems to be overfitting!"
   ]
  },
  {
   "cell_type": "code",
   "execution_count": 189,
   "id": "b80e6e53",
   "metadata": {},
   "outputs": [
    {
     "name": "stdout",
     "output_type": "stream",
     "text": [
      "The TRAIN classification accuracy is:  0.8608936725375081\n",
      "The TEST classification accuracy is:  0.8618721461187214\n"
     ]
    }
   ],
   "source": [
    "#Fit to the training data\n",
    "DT_model = DecisionTreeClassifier(max_depth=3)\n",
    "DT_model.fit(X_train, y_train)\n",
    "\n",
    "print(f\"The TRAIN classification accuracy is:  {DT_model.score(X_train,y_train)}\")\n",
    "print(f\"The TEST classification accuracy is:  {DT_model.score(X_test,y_test)}\")"
   ]
  },
  {
   "cell_type": "markdown",
   "id": "b0795e89",
   "metadata": {},
   "source": [
    "Setting the max_depth parameter to three seems to produce much better results."
   ]
  },
  {
   "cell_type": "code",
   "execution_count": 190,
   "id": "99b5e1c6",
   "metadata": {},
   "outputs": [
    {
     "name": "stderr",
     "output_type": "stream",
     "text": [
      "C:\\Users\\Behro\\anaconda3\\lib\\site-packages\\sklearn\\utils\\deprecation.py:87: FutureWarning: Function plot_confusion_matrix is deprecated; Function `plot_confusion_matrix` is deprecated in 1.0 and will be removed in 1.2. Use one of the class methods: ConfusionMatrixDisplay.from_predictions or ConfusionMatrixDisplay.from_estimator.\n",
      "  warnings.warn(msg, category=FutureWarning)\n"
     ]
    },
    {
     "data": {
      "text/plain": [
       "<sklearn.metrics._plot.confusion_matrix.ConfusionMatrixDisplay at 0x20c277fb490>"
      ]
     },
     "execution_count": 190,
     "metadata": {},
     "output_type": "execute_result"
    },
    {
     "data": {
      "image/png": "[encoded data removed]",
      "text/plain": [
       "<Figure size 432x288 with 2 Axes>"
      ]
     },
     "metadata": {
      "needs_background": "light"
     },
     "output_type": "display_data"
    }
   ],
   "source": [
    "plot_confusion_matrix(DT_model, X_test, y_test)"
   ]
  },
  {
   "cell_type": "markdown",
   "id": "8be24c52",
   "metadata": {},
   "source": [
    "|     |  Predicted Class 0  |   Predicted Class 1  | \n",
    "| --------- |:---:|:---:|\n",
    "|True Class 0|**TN** | **FP** | \n",
    "|True Class 1|**FN** |**TP** | "
   ]
  },
  {
   "cell_type": "code",
   "execution_count": 191,
   "id": "e94a08c9",
   "metadata": {},
   "outputs": [
    {
     "name": "stdout",
     "output_type": "stream",
     "text": [
      "              precision    recall  f1-score   support\n",
      "\n",
      "           0       0.76      0.14      0.23       401\n",
      "           1       0.86      0.99      0.92      2227\n",
      "\n",
      "    accuracy                           0.86      2628\n",
      "   macro avg       0.81      0.56      0.58      2628\n",
      "weighted avg       0.85      0.86      0.82      2628\n",
      "\n"
     ]
    }
   ],
   "source": [
    "print(classification_report(y_test, DT_model.predict(X_test)))"
   ]
  },
  {
   "cell_type": "markdown",
   "id": "e1204b58",
   "metadata": {},
   "source": [
    "Because of the fact that accuracy alone can be misleading depending on the class balance of the data, alternative metrics consider the relative proportions of correct and incorrect classifications in both the positive and negative classes. Two of the most common are *precision* and *recall*. \n",
    "\n",
    "Precision measures what proportion of a model assigned to positive are actually members of the positive class:\n",
    "\n",
    "$$Precision = \\frac{TP}{TP+FP}$$\n",
    "\n",
    "On the other hand, recall measures how many members of the positive class the model correctly identified out of the total positives:\n",
    "\n",
    "$$Recall = \\frac{TP}{TP+FN}$$"
   ]
  },
  {
   "cell_type": "markdown",
   "id": "7dacccdb",
   "metadata": {},
   "source": [
    "# Hyper-parameter Optimization\n",
    "\n",
    "This model is fairly simple and it would be difficult to imagine how excessive depth in the decision making model would benfit the forecast. However, we will (nonetheless) try to optimize this variable."
   ]
  },
  {
   "cell_type": "code",
   "execution_count": 123,
   "id": "f836fe37",
   "metadata": {},
   "outputs": [],
   "source": [
    "# Taking a chuck for our 20% test set\n",
    "X_remainder, X_test, y_remainder, y_test = train_test_split(data_x_core, df_target['connect'], test_size = 0.2,random_state=1)\n",
    "\n",
    "# Splitting the remainder in two chunks\n",
    "X_train, X_validation, y_train, y_validation = train_test_split(X_remainder, y_remainder, test_size = 0.3, random_state=1)"
   ]
  },
  {
   "cell_type": "code",
   "execution_count": 124,
   "id": "6784dc88",
   "metadata": {},
   "outputs": [
    {
     "name": "stdout",
     "output_type": "stream",
     "text": [
      "Shape of test set: (1752, 4)\n",
      "Shape of validation set: (2103, 4)\n",
      "Shape of train set: (4905, 4)\n"
     ]
    }
   ],
   "source": [
    "print(f'Shape of test set: {X_test.shape}')\n",
    "print(f'Shape of validation set: {X_validation.shape}')\n",
    "print(f'Shape of train set: {X_train.shape}')"
   ]
  },
  {
   "cell_type": "code",
   "execution_count": 125,
   "id": "a602a9a3",
   "metadata": {},
   "outputs": [
    {
     "name": "stdout",
     "output_type": "stream",
     "text": [
      "Fitting with max depth 14\r"
     ]
    }
   ],
   "source": [
    "validation_scores = []\n",
    "train_scores = []\n",
    "\n",
    "max_depth_range = np.arange(1, 15)\n",
    "\n",
    "for d in max_depth_range:\n",
    "    print(f\"Fitting with max depth {d}\", end=\"\\r\")\n",
    "    \n",
    "    # fit\n",
    "    model = DecisionTreeClassifier(max_depth=d,)\n",
    "    model.fit(X_train, y_train)\n",
    "    \n",
    "    # score on traning set\n",
    "    train_scores.append(model.score(X_train, y_train))\n",
    "\n",
    "    # score on validation set\n",
    "    validation_scores.append(model.score(X_validation, y_validation))\n",
    "    "
   ]
  },
  {
   "cell_type": "code",
   "execution_count": 126,
   "id": "ab811477",
   "metadata": {},
   "outputs": [
    {
     "data": {
      "image/png": "[encoded data removed]",
      "text/plain": [
       "<Figure size 720x432 with 1 Axes>"
      ]
     },
     "metadata": {
      "needs_background": "light"
     },
     "output_type": "display_data"
    }
   ],
   "source": [
    "plt.figure(figsize=(10, 6))\n",
    "plt.plot(max_depth_range, train_scores,label=\"Train Score\",marker='.')\n",
    "plt.plot(max_depth_range, validation_scores,label=\"Validation Scores\",marker='.')\n",
    "plt.xlabel('Max depth')\n",
    "plt.ylabel('Accuracy')\n",
    "plt.title(\"Optimizing max depth\")\n",
    "plt.legend()\n",
    "# plt.xlim(1, 10)\n",
    "plt.show();"
   ]
  },
  {
   "cell_type": "markdown",
   "id": "d1fffaef",
   "metadata": {},
   "source": [
    "The desirable outcome is maximizing validation score. In this case, max_depth of 4 and 5 are producing the strongest results."
   ]
  },
  {
   "cell_type": "code",
   "execution_count": 192,
   "id": "7060eec4",
   "metadata": {},
   "outputs": [
    {
     "name": "stderr",
     "output_type": "stream",
     "text": [
      "C:\\Users\\Behro\\anaconda3\\lib\\site-packages\\sklearn\\utils\\deprecation.py:87: FutureWarning: Function plot_confusion_matrix is deprecated; Function `plot_confusion_matrix` is deprecated in 1.0 and will be removed in 1.2. Use one of the class methods: ConfusionMatrixDisplay.from_predictions or ConfusionMatrixDisplay.from_estimator.\n",
      "  warnings.warn(msg, category=FutureWarning)\n"
     ]
    },
    {
     "data": {
      "text/plain": [
       "<sklearn.metrics._plot.confusion_matrix.ConfusionMatrixDisplay at 0x20c2b3b5280>"
      ]
     },
     "execution_count": 192,
     "metadata": {},
     "output_type": "execute_result"
    },
    {
     "data": {
      "image/png": "[encoded data removed]",
      "text/plain": [
       "<Figure size 432x288 with 2 Axes>"
      ]
     },
     "metadata": {
      "needs_background": "light"
     },
     "output_type": "display_data"
    }
   ],
   "source": [
    "dt_model  = DecisionTreeClassifier(max_depth=4)\n",
    "dt_model.fit(X_train, y_train)\n",
    "\n",
    "plot_confusion_matrix(dt_model, X_test, y_test)"
   ]
  },
  {
   "cell_type": "code",
   "execution_count": 194,
   "id": "ea215d97",
   "metadata": {},
   "outputs": [
    {
     "name": "stdout",
     "output_type": "stream",
     "text": [
      "              precision    recall  f1-score   support\n",
      "\n",
      "           0       0.75      0.16      0.26       401\n",
      "           1       0.87      0.99      0.92      2227\n",
      "\n",
      "    accuracy                           0.86      2628\n",
      "   macro avg       0.81      0.57      0.59      2628\n",
      "weighted avg       0.85      0.86      0.82      2628\n",
      "\n"
     ]
    }
   ],
   "source": [
    "print(classification_report(y_test, dt_model.predict(X_test)))"
   ]
  },
  {
   "cell_type": "markdown",
   "id": "3072c155",
   "metadata": {},
   "source": [
    "Changing the max depth from 3 to 4 has improved the prediction a disconnect (True Negative) from 55 to 63 instances.\n",
    "\n",
    "Because of the fact that accuracy alone can be misleading depending on the class balance of the data, alternative metrics consider the relative proportions of correct and incorrect classifications in both the positive and negative classes. Two of the most common are *precision* and *recall*. \n",
    "\n",
    "Precision measures what proportion of a model assigned to positive are actually members of the positive class:\n",
    "\n",
    "$$Precision = \\frac{TP}{TP+FP}$$\n",
    "\n",
    "On the other hand, recall measures how many members of the positive class the model correctly identified out of the total positives:\n",
    "\n",
    "$$Recall = \\frac{TP}{TP+FN}$$"
   ]
  },
  {
   "cell_type": "markdown",
   "id": "5a1279aa",
   "metadata": {},
   "source": [
    "# Random Forests\n",
    "\n",
    "The last Machine Learning technique that we want to utilize is random forests. This model tries to over-fit many decision trees and then takes the average of those models and produces forecasts for outcomes."
   ]
  },
  {
   "cell_type": "code",
   "execution_count": 132,
   "id": "2c91d26f",
   "metadata": {},
   "outputs": [],
   "source": [
    "# importing the package\n",
    "from sklearn.ensemble import RandomForestClassifier"
   ]
  },
  {
   "cell_type": "code",
   "execution_count": 133,
   "id": "bf72b8fb",
   "metadata": {},
   "outputs": [
    {
     "name": "stdout",
     "output_type": "stream",
     "text": [
      "Shape of test set: (1752, 4)\n",
      "Shape of train set: (4905, 4)\n"
     ]
    }
   ],
   "source": [
    "# making sure we have data stored in X_test and X_train variables\n",
    "print(f'Shape of test set: {X_test.shape}')\n",
    "print(f'Shape of train set: {X_train.shape}')"
   ]
  },
  {
   "cell_type": "code",
   "execution_count": 134,
   "id": "d4976c82",
   "metadata": {},
   "outputs": [
    {
     "data": {
      "text/plain": [
       "RandomForestClassifier(n_estimators=40)"
      ]
     },
     "execution_count": 134,
     "metadata": {},
     "output_type": "execute_result"
    }
   ],
   "source": [
    "# initiating the model\n",
    "my_random_forest = RandomForestClassifier(n_estimators=40)\n",
    "my_random_forest.fit(X_train, y_train)"
   ]
  },
  {
   "cell_type": "code",
   "execution_count": 135,
   "id": "e9ff6a8c",
   "metadata": {},
   "outputs": [
    {
     "name": "stderr",
     "output_type": "stream",
     "text": [
      "C:\\Users\\Behro\\anaconda3\\lib\\site-packages\\sklearn\\base.py:443: UserWarning: X has feature names, but DecisionTreeClassifier was fitted without feature names\n",
      "  warnings.warn(\n",
      "C:\\Users\\Behro\\anaconda3\\lib\\site-packages\\sklearn\\base.py:443: UserWarning: X has feature names, but DecisionTreeClassifier was fitted without feature names\n",
      "  warnings.warn(\n",
      "C:\\Users\\Behro\\anaconda3\\lib\\site-packages\\sklearn\\base.py:443: UserWarning: X has feature names, but DecisionTreeClassifier was fitted without feature names\n",
      "  warnings.warn(\n",
      "C:\\Users\\Behro\\anaconda3\\lib\\site-packages\\sklearn\\base.py:443: UserWarning: X has feature names, but DecisionTreeClassifier was fitted without feature names\n",
      "  warnings.warn(\n",
      "C:\\Users\\Behro\\anaconda3\\lib\\site-packages\\sklearn\\base.py:443: UserWarning: X has feature names, but DecisionTreeClassifier was fitted without feature names\n",
      "  warnings.warn(\n",
      "C:\\Users\\Behro\\anaconda3\\lib\\site-packages\\sklearn\\base.py:443: UserWarning: X has feature names, but DecisionTreeClassifier was fitted without feature names\n",
      "  warnings.warn(\n",
      "C:\\Users\\Behro\\anaconda3\\lib\\site-packages\\sklearn\\base.py:443: UserWarning: X has feature names, but DecisionTreeClassifier was fitted without feature names\n",
      "  warnings.warn(\n",
      "C:\\Users\\Behro\\anaconda3\\lib\\site-packages\\sklearn\\base.py:443: UserWarning: X has feature names, but DecisionTreeClassifier was fitted without feature names\n",
      "  warnings.warn(\n",
      "C:\\Users\\Behro\\anaconda3\\lib\\site-packages\\sklearn\\base.py:443: UserWarning: X has feature names, but DecisionTreeClassifier was fitted without feature names\n",
      "  warnings.warn(\n",
      "C:\\Users\\Behro\\anaconda3\\lib\\site-packages\\sklearn\\base.py:443: UserWarning: X has feature names, but DecisionTreeClassifier was fitted without feature names\n",
      "  warnings.warn(\n",
      "C:\\Users\\Behro\\anaconda3\\lib\\site-packages\\sklearn\\base.py:443: UserWarning: X has feature names, but DecisionTreeClassifier was fitted without feature names\n",
      "  warnings.warn(\n",
      "C:\\Users\\Behro\\anaconda3\\lib\\site-packages\\sklearn\\base.py:443: UserWarning: X has feature names, but DecisionTreeClassifier was fitted without feature names\n",
      "  warnings.warn(\n",
      "C:\\Users\\Behro\\anaconda3\\lib\\site-packages\\sklearn\\base.py:443: UserWarning: X has feature names, but DecisionTreeClassifier was fitted without feature names\n",
      "  warnings.warn(\n",
      "C:\\Users\\Behro\\anaconda3\\lib\\site-packages\\sklearn\\base.py:443: UserWarning: X has feature names, but DecisionTreeClassifier was fitted without feature names\n",
      "  warnings.warn(\n",
      "C:\\Users\\Behro\\anaconda3\\lib\\site-packages\\sklearn\\base.py:443: UserWarning: X has feature names, but DecisionTreeClassifier was fitted without feature names\n",
      "  warnings.warn(\n",
      "C:\\Users\\Behro\\anaconda3\\lib\\site-packages\\sklearn\\base.py:443: UserWarning: X has feature names, but DecisionTreeClassifier was fitted without feature names\n",
      "  warnings.warn(\n",
      "C:\\Users\\Behro\\anaconda3\\lib\\site-packages\\sklearn\\base.py:443: UserWarning: X has feature names, but DecisionTreeClassifier was fitted without feature names\n",
      "  warnings.warn(\n",
      "C:\\Users\\Behro\\anaconda3\\lib\\site-packages\\sklearn\\base.py:443: UserWarning: X has feature names, but DecisionTreeClassifier was fitted without feature names\n",
      "  warnings.warn(\n",
      "C:\\Users\\Behro\\anaconda3\\lib\\site-packages\\sklearn\\base.py:443: UserWarning: X has feature names, but DecisionTreeClassifier was fitted without feature names\n",
      "  warnings.warn(\n",
      "C:\\Users\\Behro\\anaconda3\\lib\\site-packages\\sklearn\\base.py:443: UserWarning: X has feature names, but DecisionTreeClassifier was fitted without feature names\n",
      "  warnings.warn(\n",
      "C:\\Users\\Behro\\anaconda3\\lib\\site-packages\\sklearn\\base.py:443: UserWarning: X has feature names, but DecisionTreeClassifier was fitted without feature names\n",
      "  warnings.warn(\n",
      "C:\\Users\\Behro\\anaconda3\\lib\\site-packages\\sklearn\\base.py:443: UserWarning: X has feature names, but DecisionTreeClassifier was fitted without feature names\n",
      "  warnings.warn(\n",
      "C:\\Users\\Behro\\anaconda3\\lib\\site-packages\\sklearn\\base.py:443: UserWarning: X has feature names, but DecisionTreeClassifier was fitted without feature names\n",
      "  warnings.warn(\n",
      "C:\\Users\\Behro\\anaconda3\\lib\\site-packages\\sklearn\\base.py:443: UserWarning: X has feature names, but DecisionTreeClassifier was fitted without feature names\n",
      "  warnings.warn(\n",
      "C:\\Users\\Behro\\anaconda3\\lib\\site-packages\\sklearn\\base.py:443: UserWarning: X has feature names, but DecisionTreeClassifier was fitted without feature names\n",
      "  warnings.warn(\n",
      "C:\\Users\\Behro\\anaconda3\\lib\\site-packages\\sklearn\\base.py:443: UserWarning: X has feature names, but DecisionTreeClassifier was fitted without feature names\n",
      "  warnings.warn(\n",
      "C:\\Users\\Behro\\anaconda3\\lib\\site-packages\\sklearn\\base.py:443: UserWarning: X has feature names, but DecisionTreeClassifier was fitted without feature names\n",
      "  warnings.warn(\n",
      "C:\\Users\\Behro\\anaconda3\\lib\\site-packages\\sklearn\\base.py:443: UserWarning: X has feature names, but DecisionTreeClassifier was fitted without feature names\n",
      "  warnings.warn(\n",
      "C:\\Users\\Behro\\anaconda3\\lib\\site-packages\\sklearn\\base.py:443: UserWarning: X has feature names, but DecisionTreeClassifier was fitted without feature names\n",
      "  warnings.warn(\n",
      "C:\\Users\\Behro\\anaconda3\\lib\\site-packages\\sklearn\\base.py:443: UserWarning: X has feature names, but DecisionTreeClassifier was fitted without feature names\n",
      "  warnings.warn(\n",
      "C:\\Users\\Behro\\anaconda3\\lib\\site-packages\\sklearn\\base.py:443: UserWarning: X has feature names, but DecisionTreeClassifier was fitted without feature names\n",
      "  warnings.warn(\n",
      "C:\\Users\\Behro\\anaconda3\\lib\\site-packages\\sklearn\\base.py:443: UserWarning: X has feature names, but DecisionTreeClassifier was fitted without feature names\n",
      "  warnings.warn(\n",
      "C:\\Users\\Behro\\anaconda3\\lib\\site-packages\\sklearn\\base.py:443: UserWarning: X has feature names, but DecisionTreeClassifier was fitted without feature names\n",
      "  warnings.warn(\n",
      "C:\\Users\\Behro\\anaconda3\\lib\\site-packages\\sklearn\\base.py:443: UserWarning: X has feature names, but DecisionTreeClassifier was fitted without feature names\n",
      "  warnings.warn(\n",
      "C:\\Users\\Behro\\anaconda3\\lib\\site-packages\\sklearn\\base.py:443: UserWarning: X has feature names, but DecisionTreeClassifier was fitted without feature names\n",
      "  warnings.warn(\n",
      "C:\\Users\\Behro\\anaconda3\\lib\\site-packages\\sklearn\\base.py:443: UserWarning: X has feature names, but DecisionTreeClassifier was fitted without feature names\n",
      "  warnings.warn(\n"
     ]
    },
    {
     "name": "stdout",
     "output_type": "stream",
     "text": [
      "Performance on fitted data:\n",
      "Average Decision Tree: 0.9281243628950051\n",
      "Random Forest: 0.9983690112130479\n"
     ]
    },
    {
     "name": "stderr",
     "output_type": "stream",
     "text": [
      "C:\\Users\\Behro\\anaconda3\\lib\\site-packages\\sklearn\\base.py:443: UserWarning: X has feature names, but DecisionTreeClassifier was fitted without feature names\n",
      "  warnings.warn(\n",
      "C:\\Users\\Behro\\anaconda3\\lib\\site-packages\\sklearn\\base.py:443: UserWarning: X has feature names, but DecisionTreeClassifier was fitted without feature names\n",
      "  warnings.warn(\n",
      "C:\\Users\\Behro\\anaconda3\\lib\\site-packages\\sklearn\\base.py:443: UserWarning: X has feature names, but DecisionTreeClassifier was fitted without feature names\n",
      "  warnings.warn(\n",
      "C:\\Users\\Behro\\anaconda3\\lib\\site-packages\\sklearn\\base.py:443: UserWarning: X has feature names, but DecisionTreeClassifier was fitted without feature names\n",
      "  warnings.warn(\n"
     ]
    }
   ],
   "source": [
    "# Trying different forests\n",
    "\n",
    "decision_tree_scores = []\n",
    "for sub_tree in my_random_forest.estimators_:\n",
    "    decision_tree_scores.append(sub_tree.score(X_train, y_train))\n",
    "    \n",
    "print(\"Performance on fitted data:\")\n",
    "print(f\"Average Decision Tree: {np.mean(decision_tree_scores)}\")\n",
    "print(f\"Random Forest: {my_random_forest.score(X_train, y_train)}\")"
   ]
  },
  {
   "cell_type": "markdown",
   "id": "0505494d",
   "metadata": {},
   "source": [
    "We can now use the confusion matrix in order to see how this model has performed."
   ]
  },
  {
   "cell_type": "code",
   "execution_count": 137,
   "id": "2bcc6e0b",
   "metadata": {},
   "outputs": [
    {
     "name": "stderr",
     "output_type": "stream",
     "text": [
      "C:\\Users\\Behro\\anaconda3\\lib\\site-packages\\sklearn\\utils\\deprecation.py:87: FutureWarning: Function plot_confusion_matrix is deprecated; Function `plot_confusion_matrix` is deprecated in 1.0 and will be removed in 1.2. Use one of the class methods: ConfusionMatrixDisplay.from_predictions or ConfusionMatrixDisplay.from_estimator.\n",
      "  warnings.warn(msg, category=FutureWarning)\n"
     ]
    },
    {
     "data": {
      "text/plain": [
       "<sklearn.metrics._plot.confusion_matrix.ConfusionMatrixDisplay at 0x20c263c5220>"
      ]
     },
     "execution_count": 137,
     "metadata": {},
     "output_type": "execute_result"
    },
    {
     "data": {
      "image/png": "[encoded data removed]",
      "text/plain": [
       "<Figure size 432x288 with 2 Axes>"
      ]
     },
     "metadata": {
      "needs_background": "light"
     },
     "output_type": "display_data"
    }
   ],
   "source": [
    "plot_confusion_matrix(my_random_forest, X_test, y_test)"
   ]
  },
  {
   "cell_type": "markdown",
   "id": "f0fc5b5f",
   "metadata": {},
   "source": [
    "If we put these outcomes in a matrix, we arrive at what is known as a confusion matrix:\n",
    "\n",
    "|     |  Predicted Class 0  |   Predicted Class 1  | \n",
    "| --------- |:---:|:---:|\n",
    "|True Class 0|**TN** | **FP** | \n",
    "|True Class 1|**FN** |**TP** | \n",
    "\n",
    "This model is performing well. We would like to err on the side of maximizing True negative at the cost of Flase positives; because, not disconnecting the consumer from the grid during peak prices can defeat the point of having this system. However, False positives would only utilize the storage, which itself is replenished when prices fall."
   ]
  },
  {
   "cell_type": "code",
   "execution_count": 136,
   "id": "64e09d60",
   "metadata": {},
   "outputs": [
    {
     "name": "stdout",
     "output_type": "stream",
     "text": [
      "              precision    recall  f1-score   support\n",
      "\n",
      "           0       0.63      0.32      0.42       285\n",
      "           1       0.88      0.96      0.92      1467\n",
      "\n",
      "    accuracy                           0.86      1752\n",
      "   macro avg       0.76      0.64      0.67      1752\n",
      "weighted avg       0.84      0.86      0.84      1752\n",
      "\n"
     ]
    }
   ],
   "source": [
    "print(classification_report(y_test, my_random_forest.predict(X_test)))"
   ]
  },
  {
   "cell_type": "markdown",
   "id": "ba78add9",
   "metadata": {},
   "source": [
    "Because of the fact that accuracy alone can be misleading depending on the class balance of the data, alternative metrics consider the relative proportions of correct and incorrect classifications in both the positive and negative classes. Two of the most common are *precision* and *recall*. \n",
    "\n",
    "Precision measures what proportion of a model assigned to positive are actually members of the positive class:\n",
    "\n",
    "$$Precision = \\frac{TP}{TP+FP}$$\n",
    "\n",
    "On the other hand, recall measures how many members of the positive class the model correctly identified out of the total positives:\n",
    "\n",
    "$$Recall = \\frac{TP}{TP+FN}$$"
   ]
  },
  {
   "cell_type": "markdown",
   "id": "cb288131",
   "metadata": {},
   "source": [
    "# Hyper-parameter Optimization"
   ]
  },
  {
   "cell_type": "code",
   "execution_count": 138,
   "id": "2b74144d",
   "metadata": {
    "scrolled": true
   },
   "outputs": [
    {
     "name": "stderr",
     "output_type": "stream",
     "text": [
      "C:\\Users\\Behro\\AppData\\Local\\Temp\\ipykernel_25032\\2158074519.py:13: FutureWarning: The frame.append method is deprecated and will be removed from pandas in a future version. Use pandas.concat instead.\n",
      "  results = results.append({'n_estimater':n_est,\n",
      "C:\\Users\\Behro\\AppData\\Local\\Temp\\ipykernel_25032\\2158074519.py:13: FutureWarning: The frame.append method is deprecated and will be removed from pandas in a future version. Use pandas.concat instead.\n",
      "  results = results.append({'n_estimater':n_est,\n",
      "C:\\Users\\Behro\\AppData\\Local\\Temp\\ipykernel_25032\\2158074519.py:13: FutureWarning: The frame.append method is deprecated and will be removed from pandas in a future version. Use pandas.concat instead.\n",
      "  results = results.append({'n_estimater':n_est,\n",
      "C:\\Users\\Behro\\AppData\\Local\\Temp\\ipykernel_25032\\2158074519.py:13: FutureWarning: The frame.append method is deprecated and will be removed from pandas in a future version. Use pandas.concat instead.\n",
      "  results = results.append({'n_estimater':n_est,\n",
      "C:\\Users\\Behro\\AppData\\Local\\Temp\\ipykernel_25032\\2158074519.py:13: FutureWarning: The frame.append method is deprecated and will be removed from pandas in a future version. Use pandas.concat instead.\n",
      "  results = results.append({'n_estimater':n_est,\n",
      "C:\\Users\\Behro\\AppData\\Local\\Temp\\ipykernel_25032\\2158074519.py:13: FutureWarning: The frame.append method is deprecated and will be removed from pandas in a future version. Use pandas.concat instead.\n",
      "  results = results.append({'n_estimater':n_est,\n",
      "C:\\Users\\Behro\\AppData\\Local\\Temp\\ipykernel_25032\\2158074519.py:13: FutureWarning: The frame.append method is deprecated and will be removed from pandas in a future version. Use pandas.concat instead.\n",
      "  results = results.append({'n_estimater':n_est,\n",
      "C:\\Users\\Behro\\AppData\\Local\\Temp\\ipykernel_25032\\2158074519.py:13: FutureWarning: The frame.append method is deprecated and will be removed from pandas in a future version. Use pandas.concat instead.\n",
      "  results = results.append({'n_estimater':n_est,\n",
      "C:\\Users\\Behro\\AppData\\Local\\Temp\\ipykernel_25032\\2158074519.py:13: FutureWarning: The frame.append method is deprecated and will be removed from pandas in a future version. Use pandas.concat instead.\n",
      "  results = results.append({'n_estimater':n_est,\n",
      "C:\\Users\\Behro\\AppData\\Local\\Temp\\ipykernel_25032\\2158074519.py:13: FutureWarning: The frame.append method is deprecated and will be removed from pandas in a future version. Use pandas.concat instead.\n",
      "  results = results.append({'n_estimater':n_est,\n",
      "C:\\Users\\Behro\\AppData\\Local\\Temp\\ipykernel_25032\\2158074519.py:13: FutureWarning: The frame.append method is deprecated and will be removed from pandas in a future version. Use pandas.concat instead.\n",
      "  results = results.append({'n_estimater':n_est,\n",
      "C:\\Users\\Behro\\AppData\\Local\\Temp\\ipykernel_25032\\2158074519.py:13: FutureWarning: The frame.append method is deprecated and will be removed from pandas in a future version. Use pandas.concat instead.\n",
      "  results = results.append({'n_estimater':n_est,\n",
      "C:\\Users\\Behro\\AppData\\Local\\Temp\\ipykernel_25032\\2158074519.py:13: FutureWarning: The frame.append method is deprecated and will be removed from pandas in a future version. Use pandas.concat instead.\n",
      "  results = results.append({'n_estimater':n_est,\n",
      "C:\\Users\\Behro\\AppData\\Local\\Temp\\ipykernel_25032\\2158074519.py:13: FutureWarning: The frame.append method is deprecated and will be removed from pandas in a future version. Use pandas.concat instead.\n",
      "  results = results.append({'n_estimater':n_est,\n",
      "C:\\Users\\Behro\\AppData\\Local\\Temp\\ipykernel_25032\\2158074519.py:13: FutureWarning: The frame.append method is deprecated and will be removed from pandas in a future version. Use pandas.concat instead.\n",
      "  results = results.append({'n_estimater':n_est,\n",
      "C:\\Users\\Behro\\AppData\\Local\\Temp\\ipykernel_25032\\2158074519.py:13: FutureWarning: The frame.append method is deprecated and will be removed from pandas in a future version. Use pandas.concat instead.\n",
      "  results = results.append({'n_estimater':n_est,\n",
      "C:\\Users\\Behro\\AppData\\Local\\Temp\\ipykernel_25032\\2158074519.py:13: FutureWarning: The frame.append method is deprecated and will be removed from pandas in a future version. Use pandas.concat instead.\n",
      "  results = results.append({'n_estimater':n_est,\n",
      "C:\\Users\\Behro\\AppData\\Local\\Temp\\ipykernel_25032\\2158074519.py:13: FutureWarning: The frame.append method is deprecated and will be removed from pandas in a future version. Use pandas.concat instead.\n",
      "  results = results.append({'n_estimater':n_est,\n",
      "C:\\Users\\Behro\\AppData\\Local\\Temp\\ipykernel_25032\\2158074519.py:13: FutureWarning: The frame.append method is deprecated and will be removed from pandas in a future version. Use pandas.concat instead.\n",
      "  results = results.append({'n_estimater':n_est,\n",
      "C:\\Users\\Behro\\AppData\\Local\\Temp\\ipykernel_25032\\2158074519.py:13: FutureWarning: The frame.append method is deprecated and will be removed from pandas in a future version. Use pandas.concat instead.\n",
      "  results = results.append({'n_estimater':n_est,\n",
      "C:\\Users\\Behro\\AppData\\Local\\Temp\\ipykernel_25032\\2158074519.py:13: FutureWarning: The frame.append method is deprecated and will be removed from pandas in a future version. Use pandas.concat instead.\n",
      "  results = results.append({'n_estimater':n_est,\n",
      "C:\\Users\\Behro\\AppData\\Local\\Temp\\ipykernel_25032\\2158074519.py:13: FutureWarning: The frame.append method is deprecated and will be removed from pandas in a future version. Use pandas.concat instead.\n",
      "  results = results.append({'n_estimater':n_est,\n",
      "C:\\Users\\Behro\\AppData\\Local\\Temp\\ipykernel_25032\\2158074519.py:13: FutureWarning: The frame.append method is deprecated and will be removed from pandas in a future version. Use pandas.concat instead.\n",
      "  results = results.append({'n_estimater':n_est,\n",
      "C:\\Users\\Behro\\AppData\\Local\\Temp\\ipykernel_25032\\2158074519.py:13: FutureWarning: The frame.append method is deprecated and will be removed from pandas in a future version. Use pandas.concat instead.\n",
      "  results = results.append({'n_estimater':n_est,\n",
      "C:\\Users\\Behro\\AppData\\Local\\Temp\\ipykernel_25032\\2158074519.py:13: FutureWarning: The frame.append method is deprecated and will be removed from pandas in a future version. Use pandas.concat instead.\n",
      "  results = results.append({'n_estimater':n_est,\n",
      "C:\\Users\\Behro\\AppData\\Local\\Temp\\ipykernel_25032\\2158074519.py:13: FutureWarning: The frame.append method is deprecated and will be removed from pandas in a future version. Use pandas.concat instead.\n",
      "  results = results.append({'n_estimater':n_est,\n",
      "C:\\Users\\Behro\\AppData\\Local\\Temp\\ipykernel_25032\\2158074519.py:13: FutureWarning: The frame.append method is deprecated and will be removed from pandas in a future version. Use pandas.concat instead.\n",
      "  results = results.append({'n_estimater':n_est,\n",
      "C:\\Users\\Behro\\AppData\\Local\\Temp\\ipykernel_25032\\2158074519.py:13: FutureWarning: The frame.append method is deprecated and will be removed from pandas in a future version. Use pandas.concat instead.\n",
      "  results = results.append({'n_estimater':n_est,\n",
      "C:\\Users\\Behro\\AppData\\Local\\Temp\\ipykernel_25032\\2158074519.py:13: FutureWarning: The frame.append method is deprecated and will be removed from pandas in a future version. Use pandas.concat instead.\n",
      "  results = results.append({'n_estimater':n_est,\n",
      "C:\\Users\\Behro\\AppData\\Local\\Temp\\ipykernel_25032\\2158074519.py:13: FutureWarning: The frame.append method is deprecated and will be removed from pandas in a future version. Use pandas.concat instead.\n",
      "  results = results.append({'n_estimater':n_est,\n",
      "C:\\Users\\Behro\\AppData\\Local\\Temp\\ipykernel_25032\\2158074519.py:13: FutureWarning: The frame.append method is deprecated and will be removed from pandas in a future version. Use pandas.concat instead.\n",
      "  results = results.append({'n_estimater':n_est,\n",
      "C:\\Users\\Behro\\AppData\\Local\\Temp\\ipykernel_25032\\2158074519.py:13: FutureWarning: The frame.append method is deprecated and will be removed from pandas in a future version. Use pandas.concat instead.\n",
      "  results = results.append({'n_estimater':n_est,\n",
      "C:\\Users\\Behro\\AppData\\Local\\Temp\\ipykernel_25032\\2158074519.py:13: FutureWarning: The frame.append method is deprecated and will be removed from pandas in a future version. Use pandas.concat instead.\n",
      "  results = results.append({'n_estimater':n_est,\n"
     ]
    },
    {
     "name": "stderr",
     "output_type": "stream",
     "text": [
      "C:\\Users\\Behro\\AppData\\Local\\Temp\\ipykernel_25032\\2158074519.py:13: FutureWarning: The frame.append method is deprecated and will be removed from pandas in a future version. Use pandas.concat instead.\n",
      "  results = results.append({'n_estimater':n_est,\n",
      "C:\\Users\\Behro\\AppData\\Local\\Temp\\ipykernel_25032\\2158074519.py:13: FutureWarning: The frame.append method is deprecated and will be removed from pandas in a future version. Use pandas.concat instead.\n",
      "  results = results.append({'n_estimater':n_est,\n",
      "C:\\Users\\Behro\\AppData\\Local\\Temp\\ipykernel_25032\\2158074519.py:13: FutureWarning: The frame.append method is deprecated and will be removed from pandas in a future version. Use pandas.concat instead.\n",
      "  results = results.append({'n_estimater':n_est,\n",
      "C:\\Users\\Behro\\AppData\\Local\\Temp\\ipykernel_25032\\2158074519.py:13: FutureWarning: The frame.append method is deprecated and will be removed from pandas in a future version. Use pandas.concat instead.\n",
      "  results = results.append({'n_estimater':n_est,\n",
      "C:\\Users\\Behro\\AppData\\Local\\Temp\\ipykernel_25032\\2158074519.py:13: FutureWarning: The frame.append method is deprecated and will be removed from pandas in a future version. Use pandas.concat instead.\n",
      "  results = results.append({'n_estimater':n_est,\n",
      "C:\\Users\\Behro\\AppData\\Local\\Temp\\ipykernel_25032\\2158074519.py:13: FutureWarning: The frame.append method is deprecated and will be removed from pandas in a future version. Use pandas.concat instead.\n",
      "  results = results.append({'n_estimater':n_est,\n",
      "C:\\Users\\Behro\\AppData\\Local\\Temp\\ipykernel_25032\\2158074519.py:13: FutureWarning: The frame.append method is deprecated and will be removed from pandas in a future version. Use pandas.concat instead.\n",
      "  results = results.append({'n_estimater':n_est,\n",
      "C:\\Users\\Behro\\AppData\\Local\\Temp\\ipykernel_25032\\2158074519.py:13: FutureWarning: The frame.append method is deprecated and will be removed from pandas in a future version. Use pandas.concat instead.\n",
      "  results = results.append({'n_estimater':n_est,\n",
      "C:\\Users\\Behro\\AppData\\Local\\Temp\\ipykernel_25032\\2158074519.py:13: FutureWarning: The frame.append method is deprecated and will be removed from pandas in a future version. Use pandas.concat instead.\n",
      "  results = results.append({'n_estimater':n_est,\n",
      "C:\\Users\\Behro\\AppData\\Local\\Temp\\ipykernel_25032\\2158074519.py:13: FutureWarning: The frame.append method is deprecated and will be removed from pandas in a future version. Use pandas.concat instead.\n",
      "  results = results.append({'n_estimater':n_est,\n",
      "C:\\Users\\Behro\\AppData\\Local\\Temp\\ipykernel_25032\\2158074519.py:13: FutureWarning: The frame.append method is deprecated and will be removed from pandas in a future version. Use pandas.concat instead.\n",
      "  results = results.append({'n_estimater':n_est,\n"
     ]
    }
   ],
   "source": [
    "n_estimater_range = range(1,45)\n",
    "\n",
    "\n",
    "results = pd.DataFrame()\n",
    "\n",
    "for n_est in n_estimater_range:\n",
    "    my_rf = RandomForestClassifier(n_estimators=n_est)\n",
    "    my_rf.fit(X_train,y_train)\n",
    "    \n",
    "    train_score = my_rf.score(X_train,y_train)\n",
    "    test_score = my_rf.score(X_test,y_test)\n",
    "    \n",
    "    results = results.append({'n_estimater':n_est,\n",
    "                                 'Train':train_score,\n",
    "                                 'Test': test_score\n",
    "                             }, ignore_index=True)"
   ]
  },
  {
   "cell_type": "code",
   "execution_count": 139,
   "id": "a0640d5c",
   "metadata": {},
   "outputs": [
    {
     "data": {
      "image/png": "[encoded data removed]",
      "text/plain": [
       "<Figure size 432x288 with 1 Axes>"
      ]
     },
     "metadata": {
      "needs_background": "light"
     },
     "output_type": "display_data"
    }
   ],
   "source": [
    "# initiating the plot\n",
    "plt.figure()\n",
    "results.plot(x='n_estimater',y=['Train','Test'],ax = plt.gca())\n",
    "plt.title('Performance of random forest as a function of the hyper parameter of n estimetor')\n",
    "plt.show()"
   ]
  },
  {
   "cell_type": "markdown",
   "id": "d5335e82",
   "metadata": {},
   "source": [
    "Of the four features that we have, Output/Capacity ratio seems to be the strongest predictor of a price spike."
   ]
  },
  {
   "cell_type": "code",
   "execution_count": 140,
   "id": "23bd843c",
   "metadata": {},
   "outputs": [
    {
     "data": {
      "text/plain": [
       "array([0.23617223, 0.21655049, 0.32150914, 0.22576814])"
      ]
     },
     "execution_count": 140,
     "metadata": {},
     "output_type": "execute_result"
    }
   ],
   "source": [
    "my_rf.feature_importances_"
   ]
  },
  {
   "cell_type": "code",
   "execution_count": 142,
   "id": "51354ab2",
   "metadata": {},
   "outputs": [
    {
     "data": {
      "text/html": [
       "<div>\n",
       "<style scoped>\n",
       "    .dataframe tbody tr th:only-of-type {\n",
       "        vertical-align: middle;\n",
       "    }\n",
       "\n",
       "    .dataframe tbody tr th {\n",
       "        vertical-align: top;\n",
       "    }\n",
       "\n",
       "    .dataframe thead th {\n",
       "        text-align: right;\n",
       "    }\n",
       "</style>\n",
       "<table border=\"1\" class=\"dataframe\">\n",
       "  <thead>\n",
       "    <tr style=\"text-align: right;\">\n",
       "      <th></th>\n",
       "      <th>Market Demand</th>\n",
       "      <th>MarketSurplus</th>\n",
       "      <th>Output/Cap ratio</th>\n",
       "      <th>yr-on-yr Surplus</th>\n",
       "    </tr>\n",
       "  </thead>\n",
       "  <tbody>\n",
       "    <tr>\n",
       "      <th>7590</th>\n",
       "      <td>18419.0</td>\n",
       "      <td>-455.0</td>\n",
       "      <td>0.677376</td>\n",
       "      <td>-3369.0</td>\n",
       "    </tr>\n",
       "    <tr>\n",
       "      <th>4536</th>\n",
       "      <td>15292.0</td>\n",
       "      <td>-254.0</td>\n",
       "      <td>0.538417</td>\n",
       "      <td>1723.0</td>\n",
       "    </tr>\n",
       "    <tr>\n",
       "      <th>942</th>\n",
       "      <td>20298.0</td>\n",
       "      <td>-1549.0</td>\n",
       "      <td>0.667082</td>\n",
       "      <td>-2968.0</td>\n",
       "    </tr>\n",
       "    <tr>\n",
       "      <th>4189</th>\n",
       "      <td>17581.0</td>\n",
       "      <td>-633.0</td>\n",
       "      <td>0.593480</td>\n",
       "      <td>-534.0</td>\n",
       "    </tr>\n",
       "    <tr>\n",
       "      <th>3492</th>\n",
       "      <td>18956.0</td>\n",
       "      <td>-1651.0</td>\n",
       "      <td>0.664121</td>\n",
       "      <td>-2017.0</td>\n",
       "    </tr>\n",
       "    <tr>\n",
       "      <th>5545</th>\n",
       "      <td>15525.0</td>\n",
       "      <td>-529.0</td>\n",
       "      <td>0.554278</td>\n",
       "      <td>601.0</td>\n",
       "    </tr>\n",
       "    <tr>\n",
       "      <th>7693</th>\n",
       "      <td>18317.0</td>\n",
       "      <td>-1084.0</td>\n",
       "      <td>0.636209</td>\n",
       "      <td>-477.0</td>\n",
       "    </tr>\n",
       "    <tr>\n",
       "      <th>2875</th>\n",
       "      <td>15407.0</td>\n",
       "      <td>-393.0</td>\n",
       "      <td>0.524287</td>\n",
       "      <td>1454.0</td>\n",
       "    </tr>\n",
       "    <tr>\n",
       "      <th>2550</th>\n",
       "      <td>18274.0</td>\n",
       "      <td>-1138.0</td>\n",
       "      <td>0.665321</td>\n",
       "      <td>-4753.0</td>\n",
       "    </tr>\n",
       "  </tbody>\n",
       "</table>\n",
       "</div>"
      ],
      "text/plain": [
       "      Market Demand  MarketSurplus  Output/Cap ratio  yr-on-yr Surplus\n",
       "7590        18419.0         -455.0          0.677376           -3369.0\n",
       "4536        15292.0         -254.0          0.538417            1723.0\n",
       "942         20298.0        -1549.0          0.667082           -2968.0\n",
       "4189        17581.0         -633.0          0.593480            -534.0\n",
       "3492        18956.0        -1651.0          0.664121           -2017.0\n",
       "5545        15525.0         -529.0          0.554278             601.0\n",
       "7693        18317.0        -1084.0          0.636209            -477.0\n",
       "2875        15407.0         -393.0          0.524287            1454.0\n",
       "2550        18274.0        -1138.0          0.665321           -4753.0"
      ]
     },
     "execution_count": 142,
     "metadata": {},
     "output_type": "execute_result"
    }
   ],
   "source": [
    "data_x_core.sample(9)"
   ]
  },
  {
   "cell_type": "markdown",
   "id": "251c8389",
   "metadata": {},
   "source": [
    "# Shifts\n",
    "\n",
    "We are investigating variables that change over time; therefore, using shift allows us to add more columns with \"lags\". These lags indicate changes of these variables over time, and may help our models perform better."
   ]
  },
  {
   "cell_type": "code",
   "execution_count": 143,
   "id": "4e404471",
   "metadata": {},
   "outputs": [],
   "source": [
    "new_data = pd.concat([data_x_core.shift(1), data_x_core], axis=1)"
   ]
  },
  {
   "cell_type": "code",
   "execution_count": 144,
   "id": "4000e5ea",
   "metadata": {},
   "outputs": [
    {
     "data": {
      "text/html": [
       "<div>\n",
       "<style scoped>\n",
       "    .dataframe tbody tr th:only-of-type {\n",
       "        vertical-align: middle;\n",
       "    }\n",
       "\n",
       "    .dataframe tbody tr th {\n",
       "        vertical-align: top;\n",
       "    }\n",
       "\n",
       "    .dataframe thead th {\n",
       "        text-align: right;\n",
       "    }\n",
       "</style>\n",
       "<table border=\"1\" class=\"dataframe\">\n",
       "  <thead>\n",
       "    <tr style=\"text-align: right;\">\n",
       "      <th></th>\n",
       "      <th>Market Demand</th>\n",
       "      <th>MarketSurplus</th>\n",
       "      <th>Output/Cap ratio</th>\n",
       "      <th>yr-on-yr Surplus</th>\n",
       "      <th>Market Demand</th>\n",
       "      <th>MarketSurplus</th>\n",
       "      <th>Output/Cap ratio</th>\n",
       "      <th>yr-on-yr Surplus</th>\n",
       "    </tr>\n",
       "  </thead>\n",
       "  <tbody>\n",
       "    <tr>\n",
       "      <th>0</th>\n",
       "      <td>NaN</td>\n",
       "      <td>NaN</td>\n",
       "      <td>NaN</td>\n",
       "      <td>NaN</td>\n",
       "      <td>18662.000000</td>\n",
       "      <td>-688.000000</td>\n",
       "      <td>0.628835</td>\n",
       "      <td>-579.440484</td>\n",
       "    </tr>\n",
       "    <tr>\n",
       "      <th>1</th>\n",
       "      <td>18662.000000</td>\n",
       "      <td>-688.000000</td>\n",
       "      <td>0.628835</td>\n",
       "      <td>-579.440484</td>\n",
       "      <td>18060.000000</td>\n",
       "      <td>-263.000000</td>\n",
       "      <td>0.606330</td>\n",
       "      <td>-579.440484</td>\n",
       "    </tr>\n",
       "    <tr>\n",
       "      <th>2</th>\n",
       "      <td>18060.000000</td>\n",
       "      <td>-263.000000</td>\n",
       "      <td>0.606330</td>\n",
       "      <td>-579.440484</td>\n",
       "      <td>18429.000000</td>\n",
       "      <td>-385.000000</td>\n",
       "      <td>0.609801</td>\n",
       "      <td>-579.440484</td>\n",
       "    </tr>\n",
       "    <tr>\n",
       "      <th>3</th>\n",
       "      <td>18429.000000</td>\n",
       "      <td>-385.000000</td>\n",
       "      <td>0.609801</td>\n",
       "      <td>-579.440484</td>\n",
       "      <td>19137.000000</td>\n",
       "      <td>-133.000000</td>\n",
       "      <td>0.635543</td>\n",
       "      <td>-1965.000000</td>\n",
       "    </tr>\n",
       "    <tr>\n",
       "      <th>4</th>\n",
       "      <td>19137.000000</td>\n",
       "      <td>-133.000000</td>\n",
       "      <td>0.635543</td>\n",
       "      <td>-1965.000000</td>\n",
       "      <td>19470.000000</td>\n",
       "      <td>-190.000000</td>\n",
       "      <td>0.640979</td>\n",
       "      <td>-2713.000000</td>\n",
       "    </tr>\n",
       "    <tr>\n",
       "      <th>...</th>\n",
       "      <td>...</td>\n",
       "      <td>...</td>\n",
       "      <td>...</td>\n",
       "      <td>...</td>\n",
       "      <td>...</td>\n",
       "      <td>...</td>\n",
       "      <td>...</td>\n",
       "      <td>...</td>\n",
       "    </tr>\n",
       "    <tr>\n",
       "      <th>8755</th>\n",
       "      <td>17516.000000</td>\n",
       "      <td>-289.000000</td>\n",
       "      <td>0.555423</td>\n",
       "      <td>3636.000000</td>\n",
       "      <td>17506.000000</td>\n",
       "      <td>-274.000000</td>\n",
       "      <td>0.559717</td>\n",
       "      <td>4693.000000</td>\n",
       "    </tr>\n",
       "    <tr>\n",
       "      <th>8756</th>\n",
       "      <td>17506.000000</td>\n",
       "      <td>-274.000000</td>\n",
       "      <td>0.559717</td>\n",
       "      <td>4693.000000</td>\n",
       "      <td>16704.000000</td>\n",
       "      <td>-204.000000</td>\n",
       "      <td>0.521855</td>\n",
       "      <td>6800.000000</td>\n",
       "    </tr>\n",
       "    <tr>\n",
       "      <th>8757</th>\n",
       "      <td>16704.000000</td>\n",
       "      <td>-204.000000</td>\n",
       "      <td>0.521855</td>\n",
       "      <td>6800.000000</td>\n",
       "      <td>17765.890031</td>\n",
       "      <td>-1050.334475</td>\n",
       "      <td>0.613991</td>\n",
       "      <td>-579.440484</td>\n",
       "    </tr>\n",
       "    <tr>\n",
       "      <th>8758</th>\n",
       "      <td>17765.890031</td>\n",
       "      <td>-1050.334475</td>\n",
       "      <td>0.613991</td>\n",
       "      <td>-579.440484</td>\n",
       "      <td>17765.890031</td>\n",
       "      <td>-1050.334475</td>\n",
       "      <td>0.613991</td>\n",
       "      <td>-579.440484</td>\n",
       "    </tr>\n",
       "    <tr>\n",
       "      <th>8759</th>\n",
       "      <td>17765.890031</td>\n",
       "      <td>-1050.334475</td>\n",
       "      <td>0.613991</td>\n",
       "      <td>-579.440484</td>\n",
       "      <td>17765.890031</td>\n",
       "      <td>-1050.334475</td>\n",
       "      <td>0.613991</td>\n",
       "      <td>-579.440484</td>\n",
       "    </tr>\n",
       "  </tbody>\n",
       "</table>\n",
       "<p>8760 rows × 8 columns</p>\n",
       "</div>"
      ],
      "text/plain": [
       "      Market Demand  MarketSurplus  Output/Cap ratio  yr-on-yr Surplus  \\\n",
       "0               NaN            NaN               NaN               NaN   \n",
       "1      18662.000000    -688.000000          0.628835       -579.440484   \n",
       "2      18060.000000    -263.000000          0.606330       -579.440484   \n",
       "3      18429.000000    -385.000000          0.609801       -579.440484   \n",
       "4      19137.000000    -133.000000          0.635543      -1965.000000   \n",
       "...             ...            ...               ...               ...   \n",
       "8755   17516.000000    -289.000000          0.555423       3636.000000   \n",
       "8756   17506.000000    -274.000000          0.559717       4693.000000   \n",
       "8757   16704.000000    -204.000000          0.521855       6800.000000   \n",
       "8758   17765.890031   -1050.334475          0.613991       -579.440484   \n",
       "8759   17765.890031   -1050.334475          0.613991       -579.440484   \n",
       "\n",
       "      Market Demand  MarketSurplus  Output/Cap ratio  yr-on-yr Surplus  \n",
       "0      18662.000000    -688.000000          0.628835       -579.440484  \n",
       "1      18060.000000    -263.000000          0.606330       -579.440484  \n",
       "2      18429.000000    -385.000000          0.609801       -579.440484  \n",
       "3      19137.000000    -133.000000          0.635543      -1965.000000  \n",
       "4      19470.000000    -190.000000          0.640979      -2713.000000  \n",
       "...             ...            ...               ...               ...  \n",
       "8755   17506.000000    -274.000000          0.559717       4693.000000  \n",
       "8756   16704.000000    -204.000000          0.521855       6800.000000  \n",
       "8757   17765.890031   -1050.334475          0.613991       -579.440484  \n",
       "8758   17765.890031   -1050.334475          0.613991       -579.440484  \n",
       "8759   17765.890031   -1050.334475          0.613991       -579.440484  \n",
       "\n",
       "[8760 rows x 8 columns]"
      ]
     },
     "execution_count": 144,
     "metadata": {},
     "output_type": "execute_result"
    }
   ],
   "source": [
    "# sanity check\n",
    "new_data"
   ]
  },
  {
   "cell_type": "code",
   "execution_count": 152,
   "id": "de2bc9fe",
   "metadata": {},
   "outputs": [],
   "source": [
    "# second shift\n",
    "new_data = pd.concat([new_data.shift(1), data_x_core], axis=1)"
   ]
  },
  {
   "cell_type": "code",
   "execution_count": 153,
   "id": "77409d7d",
   "metadata": {},
   "outputs": [
    {
     "data": {
      "text/html": [
       "<div>\n",
       "<style scoped>\n",
       "    .dataframe tbody tr th:only-of-type {\n",
       "        vertical-align: middle;\n",
       "    }\n",
       "\n",
       "    .dataframe tbody tr th {\n",
       "        vertical-align: top;\n",
       "    }\n",
       "\n",
       "    .dataframe thead th {\n",
       "        text-align: right;\n",
       "    }\n",
       "</style>\n",
       "<table border=\"1\" class=\"dataframe\">\n",
       "  <thead>\n",
       "    <tr style=\"text-align: right;\">\n",
       "      <th></th>\n",
       "      <th>Market Demand</th>\n",
       "      <th>MarketSurplus</th>\n",
       "      <th>Output/Cap ratio</th>\n",
       "      <th>yr-on-yr Surplus</th>\n",
       "      <th>Market Demand</th>\n",
       "      <th>MarketSurplus</th>\n",
       "      <th>Output/Cap ratio</th>\n",
       "      <th>yr-on-yr Surplus</th>\n",
       "      <th>Market Demand</th>\n",
       "      <th>MarketSurplus</th>\n",
       "      <th>Output/Cap ratio</th>\n",
       "      <th>yr-on-yr Surplus</th>\n",
       "    </tr>\n",
       "  </thead>\n",
       "  <tbody>\n",
       "    <tr>\n",
       "      <th>0</th>\n",
       "      <td>NaN</td>\n",
       "      <td>NaN</td>\n",
       "      <td>NaN</td>\n",
       "      <td>NaN</td>\n",
       "      <td>NaN</td>\n",
       "      <td>NaN</td>\n",
       "      <td>NaN</td>\n",
       "      <td>NaN</td>\n",
       "      <td>18662.0</td>\n",
       "      <td>-688.0</td>\n",
       "      <td>0.628835</td>\n",
       "      <td>-579.440484</td>\n",
       "    </tr>\n",
       "    <tr>\n",
       "      <th>1</th>\n",
       "      <td>NaN</td>\n",
       "      <td>NaN</td>\n",
       "      <td>NaN</td>\n",
       "      <td>NaN</td>\n",
       "      <td>18662.0</td>\n",
       "      <td>-688.0</td>\n",
       "      <td>0.628835</td>\n",
       "      <td>-579.440484</td>\n",
       "      <td>18060.0</td>\n",
       "      <td>-263.0</td>\n",
       "      <td>0.606330</td>\n",
       "      <td>-579.440484</td>\n",
       "    </tr>\n",
       "    <tr>\n",
       "      <th>2</th>\n",
       "      <td>18662.0</td>\n",
       "      <td>-688.0</td>\n",
       "      <td>0.628835</td>\n",
       "      <td>-579.440484</td>\n",
       "      <td>18060.0</td>\n",
       "      <td>-263.0</td>\n",
       "      <td>0.606330</td>\n",
       "      <td>-579.440484</td>\n",
       "      <td>18429.0</td>\n",
       "      <td>-385.0</td>\n",
       "      <td>0.609801</td>\n",
       "      <td>-579.440484</td>\n",
       "    </tr>\n",
       "    <tr>\n",
       "      <th>3</th>\n",
       "      <td>18060.0</td>\n",
       "      <td>-263.0</td>\n",
       "      <td>0.606330</td>\n",
       "      <td>-579.440484</td>\n",
       "      <td>18429.0</td>\n",
       "      <td>-385.0</td>\n",
       "      <td>0.609801</td>\n",
       "      <td>-579.440484</td>\n",
       "      <td>19137.0</td>\n",
       "      <td>-133.0</td>\n",
       "      <td>0.635543</td>\n",
       "      <td>-1965.000000</td>\n",
       "    </tr>\n",
       "    <tr>\n",
       "      <th>4</th>\n",
       "      <td>18429.0</td>\n",
       "      <td>-385.0</td>\n",
       "      <td>0.609801</td>\n",
       "      <td>-579.440484</td>\n",
       "      <td>19137.0</td>\n",
       "      <td>-133.0</td>\n",
       "      <td>0.635543</td>\n",
       "      <td>-1965.000000</td>\n",
       "      <td>19470.0</td>\n",
       "      <td>-190.0</td>\n",
       "      <td>0.640979</td>\n",
       "      <td>-2713.000000</td>\n",
       "    </tr>\n",
       "  </tbody>\n",
       "</table>\n",
       "</div>"
      ],
      "text/plain": [
       "   Market Demand  MarketSurplus  Output/Cap ratio  yr-on-yr Surplus  \\\n",
       "0            NaN            NaN               NaN               NaN   \n",
       "1            NaN            NaN               NaN               NaN   \n",
       "2        18662.0         -688.0          0.628835       -579.440484   \n",
       "3        18060.0         -263.0          0.606330       -579.440484   \n",
       "4        18429.0         -385.0          0.609801       -579.440484   \n",
       "\n",
       "   Market Demand  MarketSurplus  Output/Cap ratio  yr-on-yr Surplus  \\\n",
       "0            NaN            NaN               NaN               NaN   \n",
       "1        18662.0         -688.0          0.628835       -579.440484   \n",
       "2        18060.0         -263.0          0.606330       -579.440484   \n",
       "3        18429.0         -385.0          0.609801       -579.440484   \n",
       "4        19137.0         -133.0          0.635543      -1965.000000   \n",
       "\n",
       "   Market Demand  MarketSurplus  Output/Cap ratio  yr-on-yr Surplus  \n",
       "0        18662.0         -688.0          0.628835       -579.440484  \n",
       "1        18060.0         -263.0          0.606330       -579.440484  \n",
       "2        18429.0         -385.0          0.609801       -579.440484  \n",
       "3        19137.0         -133.0          0.635543      -1965.000000  \n",
       "4        19470.0         -190.0          0.640979      -2713.000000  "
      ]
     },
     "execution_count": 153,
     "metadata": {},
     "output_type": "execute_result"
    }
   ],
   "source": [
    "# sanity check\n",
    "new_data.head()"
   ]
  },
  {
   "cell_type": "code",
   "execution_count": 154,
   "id": "efce6a6f",
   "metadata": {},
   "outputs": [],
   "source": [
    "# dropping all rows with NaN\n",
    "new_data = new_data.dropna()"
   ]
  },
  {
   "cell_type": "code",
   "execution_count": 155,
   "id": "b2b1adaa",
   "metadata": {},
   "outputs": [
    {
     "data": {
      "text/plain": [
       "Market Demand       0\n",
       "MarketSurplus       0\n",
       "Output/Cap ratio    0\n",
       "yr-on-yr Surplus    0\n",
       "Market Demand       0\n",
       "MarketSurplus       0\n",
       "Output/Cap ratio    0\n",
       "yr-on-yr Surplus    0\n",
       "Market Demand       0\n",
       "MarketSurplus       0\n",
       "Output/Cap ratio    0\n",
       "yr-on-yr Surplus    0\n",
       "dtype: int64"
      ]
     },
     "execution_count": 155,
     "metadata": {},
     "output_type": "execute_result"
    }
   ],
   "source": [
    "# sanity check\n",
    "new_data.isna().sum()"
   ]
  },
  {
   "cell_type": "markdown",
   "id": "8abb128b",
   "metadata": {},
   "source": [
    "We may now run all of our models again to see if this has helped."
   ]
  },
  {
   "cell_type": "markdown",
   "id": "2e5ed249",
   "metadata": {},
   "source": [
    "# Logistic Regression"
   ]
  },
  {
   "cell_type": "code",
   "execution_count": 195,
   "id": "41fee474",
   "metadata": {},
   "outputs": [
    {
     "data": {
      "text/plain": [
       "(8760, 2)"
      ]
     },
     "execution_count": 195,
     "metadata": {},
     "output_type": "execute_result"
    }
   ],
   "source": [
    "df_target.shape"
   ]
  },
  {
   "cell_type": "code",
   "execution_count": 196,
   "id": "866b2b71",
   "metadata": {},
   "outputs": [],
   "source": [
    "df_target = df_target.drop(0)"
   ]
  },
  {
   "cell_type": "code",
   "execution_count": 197,
   "id": "46b64ab1",
   "metadata": {},
   "outputs": [],
   "source": [
    "df_target = df_target.drop(1)"
   ]
  },
  {
   "cell_type": "code",
   "execution_count": 198,
   "id": "fcd25134",
   "metadata": {},
   "outputs": [
    {
     "name": "stdout",
     "output_type": "stream",
     "text": [
      "The TRAIN classification accuracy is:  0.8895595432300163\n",
      "The TEST classification accuracy is:  0.8801369863013698\n"
     ]
    }
   ],
   "source": [
    "# Splitting the data\n",
    "X_train, X_test, y_train, y_test = train_test_split(new_data, df_target, test_size=0.3)\n",
    "\n",
    "scaler = StandardScaler()\n",
    "X_train_scaled = scaler.fit_transform(X_train)\n",
    "X_test_scaled = scaler.fit_transform(X_test)\n",
    "\n",
    "\n",
    "# Fitting the linear model\n",
    "LR_model = LogisticRegression(C=0.1)\n",
    "LR_model.fit(X_train_scaled, y_train['connect'])\n",
    "\n",
    "print(f\"The TRAIN classification accuracy is:  {LR_model.score(X_train_scaled,y_train['connect'])}\")\n",
    "print(f\"The TEST classification accuracy is:  {LR_model.score(X_test_scaled,y_test['connect'])}\")"
   ]
  },
  {
   "cell_type": "code",
   "execution_count": 199,
   "id": "ba4d6bd5",
   "metadata": {},
   "outputs": [
    {
     "name": "stderr",
     "output_type": "stream",
     "text": [
      "C:\\Users\\Behro\\anaconda3\\lib\\site-packages\\sklearn\\utils\\deprecation.py:87: FutureWarning: Function plot_confusion_matrix is deprecated; Function `plot_confusion_matrix` is deprecated in 1.0 and will be removed in 1.2. Use one of the class methods: ConfusionMatrixDisplay.from_predictions or ConfusionMatrixDisplay.from_estimator.\n",
      "  warnings.warn(msg, category=FutureWarning)\n"
     ]
    },
    {
     "data": {
      "text/plain": [
       "<sklearn.metrics._plot.confusion_matrix.ConfusionMatrixDisplay at 0x20c2b2f9340>"
      ]
     },
     "execution_count": 199,
     "metadata": {},
     "output_type": "execute_result"
    },
    {
     "data": {
      "image/png": "[encoded data removed]",
      "text/plain": [
       "<Figure size 432x288 with 2 Axes>"
      ]
     },
     "metadata": {
      "needs_background": "light"
     },
     "output_type": "display_data"
    }
   ],
   "source": [
    "plot_confusion_matrix(LR_model, X_test_scaled, y_test['connect'])"
   ]
  },
  {
   "cell_type": "markdown",
   "id": "3fc3d164",
   "metadata": {},
   "source": [
    "we have slightly better results, after adding more data from the past."
   ]
  },
  {
   "cell_type": "markdown",
   "id": "a5a1dbe5",
   "metadata": {},
   "source": [
    "# Decision Tree"
   ]
  },
  {
   "cell_type": "code",
   "execution_count": 167,
   "id": "e620ca37",
   "metadata": {},
   "outputs": [
    {
     "data": {
      "text/plain": [
       "(6130, 12)"
      ]
     },
     "execution_count": 167,
     "metadata": {},
     "output_type": "execute_result"
    }
   ],
   "source": [
    "X_train.shape"
   ]
  },
  {
   "cell_type": "code",
   "execution_count": 168,
   "id": "ad8b66d3",
   "metadata": {},
   "outputs": [
    {
     "data": {
      "text/plain": [
       "(6130, 2)"
      ]
     },
     "execution_count": 168,
     "metadata": {},
     "output_type": "execute_result"
    }
   ],
   "source": [
    "y_train.shape"
   ]
  },
  {
   "cell_type": "code",
   "execution_count": 169,
   "id": "19c17064",
   "metadata": {},
   "outputs": [
    {
     "data": {
      "text/html": [
       "<div>\n",
       "<style scoped>\n",
       "    .dataframe tbody tr th:only-of-type {\n",
       "        vertical-align: middle;\n",
       "    }\n",
       "\n",
       "    .dataframe tbody tr th {\n",
       "        vertical-align: top;\n",
       "    }\n",
       "\n",
       "    .dataframe thead th {\n",
       "        text-align: right;\n",
       "    }\n",
       "</style>\n",
       "<table border=\"1\" class=\"dataframe\">\n",
       "  <thead>\n",
       "    <tr style=\"text-align: right;\">\n",
       "      <th></th>\n",
       "      <th>Price</th>\n",
       "      <th>connect</th>\n",
       "    </tr>\n",
       "  </thead>\n",
       "  <tbody>\n",
       "    <tr>\n",
       "      <th>2399</th>\n",
       "      <td>14.37</td>\n",
       "      <td>1</td>\n",
       "    </tr>\n",
       "    <tr>\n",
       "      <th>4419</th>\n",
       "      <td>14.34</td>\n",
       "      <td>1</td>\n",
       "    </tr>\n",
       "    <tr>\n",
       "      <th>48</th>\n",
       "      <td>2.31</td>\n",
       "      <td>1</td>\n",
       "    </tr>\n",
       "    <tr>\n",
       "      <th>3397</th>\n",
       "      <td>28.06</td>\n",
       "      <td>1</td>\n",
       "    </tr>\n",
       "    <tr>\n",
       "      <th>501</th>\n",
       "      <td>33.44</td>\n",
       "      <td>1</td>\n",
       "    </tr>\n",
       "  </tbody>\n",
       "</table>\n",
       "</div>"
      ],
      "text/plain": [
       "      Price  connect\n",
       "2399  14.37        1\n",
       "4419  14.34        1\n",
       "48     2.31        1\n",
       "3397  28.06        1\n",
       "501   33.44        1"
      ]
     },
     "execution_count": 169,
     "metadata": {},
     "output_type": "execute_result"
    }
   ],
   "source": [
    "y_train.head()"
   ]
  },
  {
   "cell_type": "code",
   "execution_count": 171,
   "id": "b7bf543b",
   "metadata": {},
   "outputs": [
    {
     "name": "stdout",
     "output_type": "stream",
     "text": [
      "The TRAIN classification accuracy is:  0.8910277324632953\n",
      "The TEST classification accuracy is:  0.882420091324201\n"
     ]
    }
   ],
   "source": [
    "#Fit to the training data\n",
    "DT_model = DecisionTreeClassifier(max_depth=4)\n",
    "DT_model.fit(X_train, y_train['connect'])\n",
    "\n",
    "print(f\"The TRAIN classification accuracy is:  {DT_model.score(X_train,y_train['connect'])}\")\n",
    "print(f\"The TEST classification accuracy is:  {DT_model.score(X_test,y_test['connect'])}\")"
   ]
  },
  {
   "cell_type": "code",
   "execution_count": 178,
   "id": "2a3307e8",
   "metadata": {},
   "outputs": [
    {
     "name": "stderr",
     "output_type": "stream",
     "text": [
      "C:\\Users\\Behro\\anaconda3\\lib\\site-packages\\sklearn\\utils\\deprecation.py:87: FutureWarning: Function plot_confusion_matrix is deprecated; Function `plot_confusion_matrix` is deprecated in 1.0 and will be removed in 1.2. Use one of the class methods: ConfusionMatrixDisplay.from_predictions or ConfusionMatrixDisplay.from_estimator.\n",
      "  warnings.warn(msg, category=FutureWarning)\n"
     ]
    },
    {
     "data": {
      "text/plain": [
       "<sklearn.metrics._plot.confusion_matrix.ConfusionMatrixDisplay at 0x20c2b114d90>"
      ]
     },
     "execution_count": 178,
     "metadata": {},
     "output_type": "execute_result"
    },
    {
     "data": {
      "image/png": "[encoded data removed]",
      "text/plain": [
       "<Figure size 432x288 with 2 Axes>"
      ]
     },
     "metadata": {
      "needs_background": "light"
     },
     "output_type": "display_data"
    }
   ],
   "source": [
    "plot_confusion_matrix(DT_model, X_test, y_test['connect'])"
   ]
  },
  {
   "cell_type": "code",
   "execution_count": 184,
   "id": "4b7e224a",
   "metadata": {},
   "outputs": [
    {
     "name": "stdout",
     "output_type": "stream",
     "text": [
      "              precision    recall  f1-score   support\n",
      "\n",
      "           0       0.75      0.35      0.48       403\n",
      "           1       0.89      0.98      0.93      2225\n",
      "\n",
      "    accuracy                           0.88      2628\n",
      "   macro avg       0.82      0.67      0.71      2628\n",
      "weighted avg       0.87      0.88      0.86      2628\n",
      "\n"
     ]
    }
   ],
   "source": [
    "print(classification_report(y_test['connect'], DT_model.predict(X_test)))"
   ]
  },
  {
   "cell_type": "markdown",
   "id": "04db5a7a",
   "metadata": {},
   "source": [
    "The performance of Decision Tree has improved as well."
   ]
  },
  {
   "cell_type": "markdown",
   "id": "5db8f53b",
   "metadata": {},
   "source": [
    "# Random Forests"
   ]
  },
  {
   "cell_type": "code",
   "execution_count": 172,
   "id": "3efbfeb8",
   "metadata": {},
   "outputs": [
    {
     "data": {
      "text/plain": [
       "RandomForestClassifier(n_estimators=40)"
      ]
     },
     "execution_count": 172,
     "metadata": {},
     "output_type": "execute_result"
    }
   ],
   "source": [
    "# initiating the model\n",
    "my_random_forest = RandomForestClassifier(n_estimators=40)\n",
    "my_random_forest.fit(X_train, y_train['connect'])"
   ]
  },
  {
   "cell_type": "code",
   "execution_count": 173,
   "id": "1563854b",
   "metadata": {},
   "outputs": [
    {
     "name": "stderr",
     "output_type": "stream",
     "text": [
      "C:\\Users\\Behro\\anaconda3\\lib\\site-packages\\sklearn\\base.py:443: UserWarning: X has feature names, but DecisionTreeClassifier was fitted without feature names\n",
      "  warnings.warn(\n",
      "C:\\Users\\Behro\\anaconda3\\lib\\site-packages\\sklearn\\base.py:443: UserWarning: X has feature names, but DecisionTreeClassifier was fitted without feature names\n",
      "  warnings.warn(\n",
      "C:\\Users\\Behro\\anaconda3\\lib\\site-packages\\sklearn\\base.py:443: UserWarning: X has feature names, but DecisionTreeClassifier was fitted without feature names\n",
      "  warnings.warn(\n",
      "C:\\Users\\Behro\\anaconda3\\lib\\site-packages\\sklearn\\base.py:443: UserWarning: X has feature names, but DecisionTreeClassifier was fitted without feature names\n",
      "  warnings.warn(\n",
      "C:\\Users\\Behro\\anaconda3\\lib\\site-packages\\sklearn\\base.py:443: UserWarning: X has feature names, but DecisionTreeClassifier was fitted without feature names\n",
      "  warnings.warn(\n",
      "C:\\Users\\Behro\\anaconda3\\lib\\site-packages\\sklearn\\base.py:443: UserWarning: X has feature names, but DecisionTreeClassifier was fitted without feature names\n",
      "  warnings.warn(\n",
      "C:\\Users\\Behro\\anaconda3\\lib\\site-packages\\sklearn\\base.py:443: UserWarning: X has feature names, but DecisionTreeClassifier was fitted without feature names\n",
      "  warnings.warn(\n",
      "C:\\Users\\Behro\\anaconda3\\lib\\site-packages\\sklearn\\base.py:443: UserWarning: X has feature names, but DecisionTreeClassifier was fitted without feature names\n",
      "  warnings.warn(\n",
      "C:\\Users\\Behro\\anaconda3\\lib\\site-packages\\sklearn\\base.py:443: UserWarning: X has feature names, but DecisionTreeClassifier was fitted without feature names\n",
      "  warnings.warn(\n",
      "C:\\Users\\Behro\\anaconda3\\lib\\site-packages\\sklearn\\base.py:443: UserWarning: X has feature names, but DecisionTreeClassifier was fitted without feature names\n",
      "  warnings.warn(\n",
      "C:\\Users\\Behro\\anaconda3\\lib\\site-packages\\sklearn\\base.py:443: UserWarning: X has feature names, but DecisionTreeClassifier was fitted without feature names\n",
      "  warnings.warn(\n",
      "C:\\Users\\Behro\\anaconda3\\lib\\site-packages\\sklearn\\base.py:443: UserWarning: X has feature names, but DecisionTreeClassifier was fitted without feature names\n",
      "  warnings.warn(\n",
      "C:\\Users\\Behro\\anaconda3\\lib\\site-packages\\sklearn\\base.py:443: UserWarning: X has feature names, but DecisionTreeClassifier was fitted without feature names\n",
      "  warnings.warn(\n",
      "C:\\Users\\Behro\\anaconda3\\lib\\site-packages\\sklearn\\base.py:443: UserWarning: X has feature names, but DecisionTreeClassifier was fitted without feature names\n",
      "  warnings.warn(\n",
      "C:\\Users\\Behro\\anaconda3\\lib\\site-packages\\sklearn\\base.py:443: UserWarning: X has feature names, but DecisionTreeClassifier was fitted without feature names\n",
      "  warnings.warn(\n",
      "C:\\Users\\Behro\\anaconda3\\lib\\site-packages\\sklearn\\base.py:443: UserWarning: X has feature names, but DecisionTreeClassifier was fitted without feature names\n",
      "  warnings.warn(\n",
      "C:\\Users\\Behro\\anaconda3\\lib\\site-packages\\sklearn\\base.py:443: UserWarning: X has feature names, but DecisionTreeClassifier was fitted without feature names\n",
      "  warnings.warn(\n",
      "C:\\Users\\Behro\\anaconda3\\lib\\site-packages\\sklearn\\base.py:443: UserWarning: X has feature names, but DecisionTreeClassifier was fitted without feature names\n",
      "  warnings.warn(\n",
      "C:\\Users\\Behro\\anaconda3\\lib\\site-packages\\sklearn\\base.py:443: UserWarning: X has feature names, but DecisionTreeClassifier was fitted without feature names\n",
      "  warnings.warn(\n",
      "C:\\Users\\Behro\\anaconda3\\lib\\site-packages\\sklearn\\base.py:443: UserWarning: X has feature names, but DecisionTreeClassifier was fitted without feature names\n",
      "  warnings.warn(\n",
      "C:\\Users\\Behro\\anaconda3\\lib\\site-packages\\sklearn\\base.py:443: UserWarning: X has feature names, but DecisionTreeClassifier was fitted without feature names\n",
      "  warnings.warn(\n",
      "C:\\Users\\Behro\\anaconda3\\lib\\site-packages\\sklearn\\base.py:443: UserWarning: X has feature names, but DecisionTreeClassifier was fitted without feature names\n",
      "  warnings.warn(\n",
      "C:\\Users\\Behro\\anaconda3\\lib\\site-packages\\sklearn\\base.py:443: UserWarning: X has feature names, but DecisionTreeClassifier was fitted without feature names\n",
      "  warnings.warn(\n",
      "C:\\Users\\Behro\\anaconda3\\lib\\site-packages\\sklearn\\base.py:443: UserWarning: X has feature names, but DecisionTreeClassifier was fitted without feature names\n",
      "  warnings.warn(\n",
      "C:\\Users\\Behro\\anaconda3\\lib\\site-packages\\sklearn\\base.py:443: UserWarning: X has feature names, but DecisionTreeClassifier was fitted without feature names\n",
      "  warnings.warn(\n",
      "C:\\Users\\Behro\\anaconda3\\lib\\site-packages\\sklearn\\base.py:443: UserWarning: X has feature names, but DecisionTreeClassifier was fitted without feature names\n",
      "  warnings.warn(\n",
      "C:\\Users\\Behro\\anaconda3\\lib\\site-packages\\sklearn\\base.py:443: UserWarning: X has feature names, but DecisionTreeClassifier was fitted without feature names\n",
      "  warnings.warn(\n",
      "C:\\Users\\Behro\\anaconda3\\lib\\site-packages\\sklearn\\base.py:443: UserWarning: X has feature names, but DecisionTreeClassifier was fitted without feature names\n",
      "  warnings.warn(\n",
      "C:\\Users\\Behro\\anaconda3\\lib\\site-packages\\sklearn\\base.py:443: UserWarning: X has feature names, but DecisionTreeClassifier was fitted without feature names\n",
      "  warnings.warn(\n",
      "C:\\Users\\Behro\\anaconda3\\lib\\site-packages\\sklearn\\base.py:443: UserWarning: X has feature names, but DecisionTreeClassifier was fitted without feature names\n",
      "  warnings.warn(\n",
      "C:\\Users\\Behro\\anaconda3\\lib\\site-packages\\sklearn\\base.py:443: UserWarning: X has feature names, but DecisionTreeClassifier was fitted without feature names\n",
      "  warnings.warn(\n",
      "C:\\Users\\Behro\\anaconda3\\lib\\site-packages\\sklearn\\base.py:443: UserWarning: X has feature names, but DecisionTreeClassifier was fitted without feature names\n",
      "  warnings.warn(\n",
      "C:\\Users\\Behro\\anaconda3\\lib\\site-packages\\sklearn\\base.py:443: UserWarning: X has feature names, but DecisionTreeClassifier was fitted without feature names\n",
      "  warnings.warn(\n",
      "C:\\Users\\Behro\\anaconda3\\lib\\site-packages\\sklearn\\base.py:443: UserWarning: X has feature names, but DecisionTreeClassifier was fitted without feature names\n",
      "  warnings.warn(\n",
      "C:\\Users\\Behro\\anaconda3\\lib\\site-packages\\sklearn\\base.py:443: UserWarning: X has feature names, but DecisionTreeClassifier was fitted without feature names\n",
      "  warnings.warn(\n",
      "C:\\Users\\Behro\\anaconda3\\lib\\site-packages\\sklearn\\base.py:443: UserWarning: X has feature names, but DecisionTreeClassifier was fitted without feature names\n",
      "  warnings.warn(\n",
      "C:\\Users\\Behro\\anaconda3\\lib\\site-packages\\sklearn\\base.py:443: UserWarning: X has feature names, but DecisionTreeClassifier was fitted without feature names\n",
      "  warnings.warn(\n",
      "C:\\Users\\Behro\\anaconda3\\lib\\site-packages\\sklearn\\base.py:443: UserWarning: X has feature names, but DecisionTreeClassifier was fitted without feature names\n",
      "  warnings.warn(\n",
      "C:\\Users\\Behro\\anaconda3\\lib\\site-packages\\sklearn\\base.py:443: UserWarning: X has feature names, but DecisionTreeClassifier was fitted without feature names\n",
      "  warnings.warn(\n",
      "C:\\Users\\Behro\\anaconda3\\lib\\site-packages\\sklearn\\base.py:443: UserWarning: X has feature names, but DecisionTreeClassifier was fitted without feature names\n",
      "  warnings.warn(\n"
     ]
    },
    {
     "name": "stdout",
     "output_type": "stream",
     "text": [
      "Performance on fitted data:\n",
      "Average Decision Tree: 0.9390456769983686\n",
      "Random Forest: 1.0\n"
     ]
    }
   ],
   "source": [
    "# Trying different forests\n",
    "\n",
    "decision_tree_scores = []\n",
    "for sub_tree in my_random_forest.estimators_:\n",
    "    decision_tree_scores.append(sub_tree.score(X_train, y_train['connect']))\n",
    "    \n",
    "print(\"Performance on fitted data:\")\n",
    "print(f\"Average Decision Tree: {np.mean(decision_tree_scores)}\")\n",
    "print(f\"Random Forest: {my_random_forest.score(X_train, y_train['connect'])}\")"
   ]
  },
  {
   "cell_type": "code",
   "execution_count": 175,
   "id": "42bfd14c",
   "metadata": {},
   "outputs": [
    {
     "name": "stderr",
     "output_type": "stream",
     "text": [
      "C:\\Users\\Behro\\anaconda3\\lib\\site-packages\\sklearn\\utils\\deprecation.py:87: FutureWarning: Function plot_confusion_matrix is deprecated; Function `plot_confusion_matrix` is deprecated in 1.0 and will be removed in 1.2. Use one of the class methods: ConfusionMatrixDisplay.from_predictions or ConfusionMatrixDisplay.from_estimator.\n",
      "  warnings.warn(msg, category=FutureWarning)\n"
     ]
    },
    {
     "data": {
      "text/plain": [
       "<sklearn.metrics._plot.confusion_matrix.ConfusionMatrixDisplay at 0x20c264b62e0>"
      ]
     },
     "execution_count": 175,
     "metadata": {},
     "output_type": "execute_result"
    },
    {
     "data": {
      "image/png": "[encoded data removed]",
      "text/plain": [
       "<Figure size 432x288 with 2 Axes>"
      ]
     },
     "metadata": {
      "needs_background": "light"
     },
     "output_type": "display_data"
    }
   ],
   "source": [
    "plot_confusion_matrix(my_random_forest, X_test, y_test['connect'])"
   ]
  },
  {
   "cell_type": "code",
   "execution_count": 176,
   "id": "f145b5ae",
   "metadata": {},
   "outputs": [
    {
     "name": "stdout",
     "output_type": "stream",
     "text": [
      "              precision    recall  f1-score   support\n",
      "\n",
      "           0       0.73      0.45      0.56       403\n",
      "           1       0.91      0.97      0.94      2225\n",
      "\n",
      "    accuracy                           0.89      2628\n",
      "   macro avg       0.82      0.71      0.75      2628\n",
      "weighted avg       0.88      0.89      0.88      2628\n",
      "\n"
     ]
    }
   ],
   "source": [
    "print(classification_report(y_test['connect'], my_random_forest.predict(X_test)))"
   ]
  },
  {
   "cell_type": "markdown",
   "id": "404d5e6f",
   "metadata": {},
   "source": [
    "Random forests performance has improved significantly."
   ]
  },
  {
   "cell_type": "markdown",
   "id": "323c8e0f",
   "metadata": {},
   "source": [
    "# Concluding Remarks\n",
    "\n",
    "All three models perform, but none of the three models are perfect. Hyper-parameter optimization has improved the performance of models; however, there is a lot more that can be done in order to achieve the best performance.\n",
    "\n",
    "There is strong co-linearity between two of our variables (market demand and output/capacity ratio). One of the two needs to be dropped.\n",
    "\n",
    "Shifts have also improved performance of our models. Another avenue that is worth exploring, is constructing a variable that follows trajectory of the movements of our features.\n",
    "\n",
    "Last but not least, we are dealing with a highly imbalance data set. In order to address this issue, we could use upsampling technique.\n",
    "\n",
    "For future investigations, utilizing neural networks is yet another avenue that is worth exploring.\n",
    "\n",
    "This investigation can continue further.\n",
    "\n",
    "July 3rd, 2022."
   ]
  },
  {
   "cell_type": "code",
   "execution_count": null,
   "id": "512d83ff",
   "metadata": {},
   "outputs": [],
   "source": []
  }
 ],
 "metadata": {
  "kernelspec": {
   "display_name": "Python 3 (ipykernel)",
   "language": "python",
   "name": "python3"
  },
  "language_info": {
   "codemirror_mode": {
    "name": "ipython",
    "version": 3
   },
   "file_extension": ".py",
   "mimetype": "text/x-python",
   "name": "python",
   "nbconvert_exporter": "python",
   "pygments_lexer": "ipython3",
   "version": "3.9.12"
  }
 },
 "nbformat": 4,
 "nbformat_minor": 5
}
